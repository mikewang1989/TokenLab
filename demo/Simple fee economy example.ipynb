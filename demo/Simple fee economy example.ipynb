{
 "cells": [
  {
   "cell_type": "code",
   "execution_count": 1,
   "id": "26d940f6",
   "metadata": {},
   "outputs": [
    {
     "ename": "TypeError",
     "evalue": "'type' object is not subscriptable",
     "output_type": "error",
     "traceback": [
      "\u001b[0;31m---------------------------------------------------------------------------\u001b[0m",
      "\u001b[0;31mTypeError\u001b[0m                                 Traceback (most recent call last)",
      "\u001b[0;32m/var/folders/yz/kqd5yqtx0dx0qfpmm8f_wdg40000gn/T/ipykernel_99194/3495439722.py\u001b[0m in \u001b[0;36m<module>\u001b[0;34m\u001b[0m\n\u001b[1;32m     14\u001b[0m \u001b[0;32mfrom\u001b[0m \u001b[0mTokenLab\u001b[0m\u001b[0;34m.\u001b[0m\u001b[0msimulationcomponents\u001b[0m \u001b[0;32mimport\u001b[0m \u001b[0;34m*\u001b[0m\u001b[0;34m\u001b[0m\u001b[0;34m\u001b[0m\u001b[0m\n\u001b[1;32m     15\u001b[0m \u001b[0;32mfrom\u001b[0m \u001b[0mTokenLab\u001b[0m\u001b[0;34m.\u001b[0m\u001b[0msimulationcomponents\u001b[0m\u001b[0;34m.\u001b[0m\u001b[0musergrowthclasses\u001b[0m \u001b[0;32mimport\u001b[0m \u001b[0;34m*\u001b[0m\u001b[0;34m\u001b[0m\u001b[0;34m\u001b[0m\u001b[0m\n\u001b[0;32m---> 16\u001b[0;31m \u001b[0;32mfrom\u001b[0m \u001b[0mTokenLab\u001b[0m\u001b[0;34m.\u001b[0m\u001b[0msimulationcomponents\u001b[0m\u001b[0;34m.\u001b[0m\u001b[0mtransactionclasses\u001b[0m \u001b[0;32mimport\u001b[0m \u001b[0;34m*\u001b[0m\u001b[0;34m\u001b[0m\u001b[0;34m\u001b[0m\u001b[0m\n\u001b[0m\u001b[1;32m     17\u001b[0m \u001b[0;32mfrom\u001b[0m \u001b[0mTokenLab\u001b[0m\u001b[0;34m.\u001b[0m\u001b[0msimulationcomponents\u001b[0m\u001b[0;34m.\u001b[0m\u001b[0mtokeneconomyclasses\u001b[0m \u001b[0;32mimport\u001b[0m \u001b[0;34m*\u001b[0m\u001b[0;34m\u001b[0m\u001b[0;34m\u001b[0m\u001b[0m\n\u001b[1;32m     18\u001b[0m \u001b[0;32mfrom\u001b[0m \u001b[0mTokenLab\u001b[0m\u001b[0;34m.\u001b[0m\u001b[0msimulationcomponents\u001b[0m\u001b[0;34m.\u001b[0m\u001b[0mtransactionclasses\u001b[0m \u001b[0;32mimport\u001b[0m \u001b[0;34m*\u001b[0m\u001b[0;34m\u001b[0m\u001b[0;34m\u001b[0m\u001b[0m\n",
      "\u001b[0;32m~/Dropbox (Personal)/Freelance/TokenLab/src/TokenLab/simulationcomponents/transactionclasses.py\u001b[0m in \u001b[0;36m<module>\u001b[0;34m\u001b[0m\n\u001b[1;32m    284\u001b[0m \u001b[0;34m\u001b[0m\u001b[0m\n\u001b[1;32m    285\u001b[0m \u001b[0;34m\u001b[0m\u001b[0m\n\u001b[0;32m--> 286\u001b[0;31m \u001b[0;32mclass\u001b[0m \u001b[0mTransactionManagement_Stochastic\u001b[0m\u001b[0;34m(\u001b[0m\u001b[0mTransactionManagement\u001b[0m\u001b[0;34m)\u001b[0m\u001b[0;34m:\u001b[0m\u001b[0;34m\u001b[0m\u001b[0;34m\u001b[0m\u001b[0m\n\u001b[0m\u001b[1;32m    287\u001b[0m     \"\"\"\n\u001b[1;32m    288\u001b[0m     \u001b[0mUsers\u001b[0m \u001b[0ma\u001b[0m \u001b[0msimple\u001b[0m \u001b[0mbinomial\u001b[0m \u001b[0mdistribution\u001b[0m \u001b[0mto\u001b[0m \u001b[0mmodel\u001b[0m \u001b[0mthe\u001b[0m \u001b[0mnumber\u001b[0m \u001b[0mof\u001b[0m \u001b[0mactive\u001b[0m \u001b[0musers\u001b[0m\u001b[0;34m.\u001b[0m\u001b[0;34m\u001b[0m\u001b[0;34m\u001b[0m\u001b[0m\n",
      "\u001b[0;32m~/Dropbox (Personal)/Freelance/TokenLab/src/TokenLab/simulationcomponents/transactionclasses.py\u001b[0m in \u001b[0;36mTransactionManagement_Stochastic\u001b[0;34m()\u001b[0m\n\u001b[1;32m    308\u001b[0m     def __init__(self,\n\u001b[1;32m    309\u001b[0m                  \u001b[0mvalue_per_transaction\u001b[0m\u001b[0;34m:\u001b[0m\u001b[0mfloat\u001b[0m\u001b[0;34m=\u001b[0m\u001b[0;32mNone\u001b[0m\u001b[0;34m,\u001b[0m\u001b[0;34m\u001b[0m\u001b[0;34m\u001b[0m\u001b[0m\n\u001b[0;32m--> 310\u001b[0;31m                  \u001b[0mtransactions_per_user\u001b[0m\u001b[0;34m:\u001b[0m\u001b[0mUnion\u001b[0m\u001b[0;34m[\u001b[0m\u001b[0mint\u001b[0m\u001b[0;34m,\u001b[0m\u001b[0mlist\u001b[0m\u001b[0;34m[\u001b[0m\u001b[0mint\u001b[0m\u001b[0;34m]\u001b[0m\u001b[0;34m]\u001b[0m\u001b[0;34m=\u001b[0m\u001b[0;32mNone\u001b[0m\u001b[0;34m,\u001b[0m\u001b[0;34m\u001b[0m\u001b[0;34m\u001b[0m\u001b[0m\n\u001b[0m\u001b[1;32m    311\u001b[0m                  \u001b[0mvalue_distribution\u001b[0m\u001b[0;34m=\u001b[0m\u001b[0mscipy\u001b[0m\u001b[0;34m.\u001b[0m\u001b[0mstats\u001b[0m\u001b[0;34m.\u001b[0m\u001b[0mnorm\u001b[0m\u001b[0;34m,\u001b[0m\u001b[0;34m\u001b[0m\u001b[0;34m\u001b[0m\u001b[0m\n\u001b[1;32m    312\u001b[0m                  \u001b[0mvalue_dist_parameters\u001b[0m\u001b[0;34m:\u001b[0m\u001b[0mUnion\u001b[0m\u001b[0;34m[\u001b[0m\u001b[0mDict\u001b[0m\u001b[0;34m[\u001b[0m\u001b[0mstr\u001b[0m\u001b[0;34m,\u001b[0m\u001b[0mfloat\u001b[0m\u001b[0;34m]\u001b[0m\u001b[0;34m,\u001b[0m\u001b[0mList\u001b[0m\u001b[0;34m[\u001b[0m\u001b[0mDict\u001b[0m\u001b[0;34m[\u001b[0m\u001b[0mstr\u001b[0m\u001b[0;34m,\u001b[0m\u001b[0mfloat\u001b[0m\u001b[0;34m]\u001b[0m\u001b[0;34m]\u001b[0m\u001b[0;34m]\u001b[0m\u001b[0;34m=\u001b[0m\u001b[0;34m{\u001b[0m\u001b[0;34m'loc'\u001b[0m\u001b[0;34m:\u001b[0m\u001b[0;36m10\u001b[0m\u001b[0;34m,\u001b[0m\u001b[0;34m'scale'\u001b[0m\u001b[0;34m:\u001b[0m\u001b[0;36m100\u001b[0m\u001b[0;34m}\u001b[0m\u001b[0;34m,\u001b[0m\u001b[0;34m\u001b[0m\u001b[0;34m\u001b[0m\u001b[0m\n",
      "\u001b[0;31mTypeError\u001b[0m: 'type' object is not subscriptable"
     ]
    }
   ],
   "source": [
    "import numpy as np\n",
    "import scipy\n",
    "import sys\n",
    "import os\n",
    "\n",
    "import pandas as pd\n",
    "\n",
    "tokenlab_path=os.path.abspath(\"\").replace('demo','src')\n",
    "sys.path.insert(0,tokenlab_path)\n",
    "\n",
    "\n",
    "\n",
    "\n",
    "from TokenLab.simulationcomponents import *\n",
    "from TokenLab.simulationcomponents.usergrowthclasses import *\n",
    "from TokenLab.simulationcomponents.transactionclasses import *\n",
    "from TokenLab.simulationcomponents.tokeneconomyclasses import *\n",
    "from TokenLab.simulationcomponents.transactionclasses import *\n",
    "from TokenLab.simulationcomponents.agentpoolclasses import *\n",
    "from TokenLab.simulationcomponents.pricingclasses import *\n",
    "from TokenLab.simulationcomponents.addons import AddOn_RandomNoise, AddOn_RandomNoiseProportional\n",
    "from TokenLab.utils.helpers import *\n",
    "from matplotlib import pyplot as plt\n",
    "\n",
    "import mercury as mr\n",
    "app = mr.App(title=\"TokenLab Demo - simple fee economy\", description=\"Let us show you what TokenLab can do!\") \n",
    "\n"
   ]
  },
  {
   "cell_type": "code",
   "execution_count": null,
   "id": "16f58653",
   "metadata": {},
   "outputs": [],
   "source": [
    "ITERATIONS=12*5\n",
    "HOLDING_TIME=0.1\n",
    "SUPPLY=10**9\n",
    "INITIAL_PRICE=0.01"
   ]
  },
  {
   "cell_type": "code",
   "execution_count": null,
   "id": "6f989ff2",
   "metadata": {},
   "outputs": [],
   "source": [
    "noise_param_value = mr.Slider(label=\"Noise\", value=1, min=1, \n",
    "                              max=100,step=0.05)\n",
    "\n",
    "holding_time_constant_value=mr.Slider(label=\"Holding time (days), min=0.01\", value=1, min=1, \n",
    "                              max=365,step=0.05)\n",
    "\n",
    "max_users_slider=mr.Slider(label=\"Active Monthly Users (at year 5)\", value=500000, min=100000, \n",
    "                              max=5000000,step=10000)\n",
    "\n",
    "supply_slider=mr.Slider(label=\"Supply (in millions)\", value=100, min=10, \n",
    "                              max=10000,step=10)\n",
    "\n",
    "transaction_fee_slider=mr.Slider(label=\"Transaction fee average (div by 100)\", value=1, min=1, \n",
    "                              max=10000,step=1)\n",
    "\n",
    "growth = mr.Select(label=\"Growth type\", value=\"linear\", choices=[\"linear\", \"logistic\"])\n"
   ]
  },
  {
   "cell_type": "code",
   "execution_count": null,
   "id": "248878fc",
   "metadata": {},
   "outputs": [],
   "source": [
    "SUPPLY=supply_slider.value*(10**6)"
   ]
  },
  {
   "cell_type": "code",
   "execution_count": null,
   "id": "653eaa5b",
   "metadata": {},
   "outputs": [],
   "source": [
    "\n",
    "mr.Markdown(\"\"\"## Token Economy Simulation 🚀\n",
    "\n",
    "This notebook simulates a simply token economy that is based only on transaction fees. This is used to demonstrate\n",
    "TokenLab's capabilities.\n",
    "\n",
    "TokenLab combines different elements of sochastic modelling with the purpose to simulate token price.\n",
    "\n",
    "In this notebook we conduct 100 iterations of a 60-month long simulation of a token economy that is growing.\n",
    "The simulation combines different elements such as the type of user growth (linear or logistic), the size of transactions,\n",
    "the holding time and more.\n",
    "\n",
    "The parameters are explored in more depth below. What is key to remember is that this is only a demonstration of\n",
    "TokenLab's capabilities. TokenLab supports many different methods to simulate user growth, transactions, \n",
    "price estimation, and pretty much everything needed to simulate a tokenomics project!\n",
    "\n",
    "Parameter details:\n",
    "\n",
    "1) Holding time: The holding time is sampled from a half-normal with loc=scale.\n",
    "\n",
    "2) The transaction fee slider determines the expected value of the average transaction. \n",
    "These are sampled from a half-normal distribution with location=scale.\n",
    "\n",
    "3) The average number of transactions per user is sampled from a half-normal, with loc=0 and scale=0.5\n",
    "\n",
    "4) The starting number of users is 100k.\n",
    "\n",
    "5) Pricing equation uses the equation of exchange, with an anchoring effect which pushes the price \n",
    "down towards its older values. This is a more realistic assumption, as opposed to the real equation-of-exchange.\n",
    "\n",
    "\"\"\")"
   ]
  },
  {
   "cell_type": "code",
   "execution_count": null,
   "id": "2a36e952",
   "metadata": {},
   "outputs": [],
   "source": [
    "random_noise=AddOn_RandomNoiseProportional(std_param=noise_param_value.value*0.1)\n",
    "\n",
    "lr=lambda start,stop,num : logistic_saturated_space(start=start,stop=stop,num=num,steepness=4,takeoff=3)\n",
    "\n",
    "if growth.value=='logistic':\n",
    "    users=UserGrowth_Spaced(initial_users=100000,max_users=max_users_slider.value,num_steps=60,\n",
    "                            space_function=lr,\n",
    "                            noise_addon=random_noise\n",
    "                           )\n",
    "else:\n",
    "    users=UserGrowth_Spaced(initial_users=100000,max_users=max_users_slider.value,num_steps=60,\n",
    "                        noise_addon=random_noise\n",
    "                       )\n"
   ]
  },
  {
   "cell_type": "code",
   "execution_count": null,
   "id": "d997f6a6",
   "metadata": {},
   "outputs": [],
   "source": [
    "trans=transaction_fee_slider.value/10"
   ]
  },
  {
   "cell_type": "code",
   "execution_count": null,
   "id": "bbc30084",
   "metadata": {},
   "outputs": [],
   "source": [
    "transactions=TransactionManagement_Stochastic(value_distribution=scipy.stats.norm,\n",
    "                                             value_dist_parameters={'loc':trans,'scale':trans},\n",
    "                                              transactions_distribution=scipy.stats.halfnorm,\n",
    "                                              transactions_dist_parameters={'loc':0,'scale':0.2},\n",
    "                                              #transactions_constant=1,\n",
    "                                              activity_probs=1,\n",
    "                                             type_transaction='positive')\n",
    "\n"
   ]
  },
  {
   "cell_type": "code",
   "execution_count": null,
   "id": "336d21a8",
   "metadata": {},
   "outputs": [],
   "source": [
    "#plt.hist(scipy.stats.halfnorm.rvs(loc=1,scale=1,size=1000))"
   ]
  },
  {
   "cell_type": "code",
   "execution_count": null,
   "id": "a74ba9f6",
   "metadata": {},
   "outputs": [],
   "source": [
    "#plt.plot(users.get_users_store())"
   ]
  },
  {
   "cell_type": "code",
   "execution_count": null,
   "id": "1c8f676e",
   "metadata": {},
   "outputs": [],
   "source": [
    "#holding_time=HoldingTime_Constant(holding_time_constant_value.value)\n",
    "holding_time=HoldingTime_Stochastic(holding_time_params={'loc':holding_time_constant_value.value/30,\n",
    "                                                         'scale':holding_time_constant_value.value/30})"
   ]
  },
  {
   "cell_type": "code",
   "execution_count": null,
   "id": "d79c4956",
   "metadata": {},
   "outputs": [],
   "source": [
    "\n",
    "\n",
    "ap_fiat=AgentPool_Basic(users_controller=users,transactions_controller=transactions,currency='$')\n",
    "\n",
    "\n",
    "te=TokenEconomy_Basic(holding_time=holding_time,supply=SUPPLY,token='tokenA',\n",
    "                      initial_price=INITIAL_PRICE,burn_token=True,\n",
    "                      price_function_parameters={'smoothing_param':0.1})\n",
    "te.add_agent_pools([ap_fiat])\n",
    "\n",
    "meta=TokenMetaSimulator(te)\n",
    "meta.execute(iterations=ITERATIONS,repetitions=100)\n",
    "reps=meta.get_data()\n",
    "\n",
    "_=meta.get_timeseries('tokenA_price',use_std=False)"
   ]
  },
  {
   "cell_type": "code",
   "execution_count": null,
   "id": "1cdf08a8",
   "metadata": {},
   "outputs": [],
   "source": []
  }
 ],
 "metadata": {
  "kernelspec": {
   "display_name": "Python 3 (ipykernel)",
   "language": "python",
   "name": "python3"
  },
  "language_info": {
   "codemirror_mode": {
    "name": "ipython",
    "version": 3
   },
   "file_extension": ".py",
   "mimetype": "text/x-python",
   "name": "python",
   "nbconvert_exporter": "python",
   "pygments_lexer": "ipython3",
   "version": "3.8.16"
  }
 },
 "nbformat": 4,
 "nbformat_minor": 5
}
