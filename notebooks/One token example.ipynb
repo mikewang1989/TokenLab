{
 "cells": [
  {
   "cell_type": "markdown",
   "id": "c1faf742",
   "metadata": {},
   "source": [
    "# Example of an one token economy\n",
    "\n",
    "This notebook shows a very simple example of how to setup an one token economy within TokenLab. That's the most basic type of token economy. The assumptions are the following:\n",
    "\n",
    "1. There is only one token. We are modelling this using the TokenEconomy_Basic class\n",
    "2. "
   ]
  },
  {
   "cell_type": "code",
   "execution_count": 1,
   "id": "4d5ec301",
   "metadata": {},
   "outputs": [],
   "source": [
    "import numpy as np\n",
    "import scipy\n",
    "import sys\n",
    "sys.path.insert(0,'..')\n",
    "\n",
    "from simulationcomponents import *\n",
    "from simulationcomponents.usergrowthclasses import *\n",
    "from simulationcomponents.transactionclasses import *\n",
    "from simulationcomponents.tokeneconomyclasses import *\n",
    "from simulationcomponents.transactionclasses import *\n",
    "from simulationcomponents.agentpoolclasses import *\n",
    "from simulationcomponents.pricingclasses import *\n",
    "from utils.helpers import *\n",
    "from matplotlib import pyplot as plt"
   ]
  },
  {
   "cell_type": "markdown",
   "id": "d662b03c",
   "metadata": {},
   "source": [
    "# Globals"
   ]
  },
  {
   "cell_type": "code",
   "execution_count": 2,
   "id": "64a62fd1",
   "metadata": {},
   "outputs": [],
   "source": [
    "ITERATIONS=72\n",
    "HOLDING_TIME=0.1\n",
    "SUPPLY=0.17*10**9"
   ]
  },
  {
   "cell_type": "markdown",
   "id": "b513d57e",
   "metadata": {},
   "source": [
    "## Luxury digital art fractional marketplace"
   ]
  },
  {
   "cell_type": "code",
   "execution_count": 3,
   "id": "8503cf91",
   "metadata": {},
   "outputs": [],
   "source": [
    "#Primary\n",
    "usm_fiat=UserGrowth_Spaced(10,54,ITERATIONS,log_saturated_space)\n",
    "tsm_fiat=TransactionManagement_Stochastic(activity_probs=np.linspace(0.25,0.1,ITERATIONS),\n",
    "                                            value_dist_parameters={'loc':10000,'scale':10000/7},\n",
    "                                           transactions_dist_parameters={'mu':1})\n",
    "\n",
    "ap_fiat=AgentPool_IndependentUserGrowth(users_controller=usm_fiat,transactions_controller=tsm_fiat,currency='$')"
   ]
  },
  {
   "cell_type": "code",
   "execution_count": 4,
   "id": "7ee3997d",
   "metadata": {},
   "outputs": [],
   "source": [
    "#Secondary\n",
    "#make the sequence of parameters\n",
    "loc_param=generate_distribution_param_from_sequence('loc',np.linspace,500,750,ITERATIONS)\n",
    "scale_param=generate_distribution_param_from_sequence('scale',np.linspace,500/7,750/7,ITERATIONS)\n",
    "value_dist_params=merge_param_dists(loc_param,scale_param)\n",
    "\n",
    "\n",
    "usm_token=UserGrowth_Spaced(10000,327800 ,ITERATIONS,log_saturated_space)\n",
    "tsm_token=TransactionManagement_Stochastic(activity_probs=np.linspace(0.25,0.1,ITERATIONS),\n",
    "                                            value_dist_parameters=value_dist_params,\n",
    "                                           transactions_dist_parameters={'mu':26/12})\n",
    "\n",
    "ap_token=AgentPool_IndependentUserGrowth(users_controller=usm_token,transactions_controller=tsm_token,currency='tokenA')"
   ]
  },
  {
   "cell_type": "markdown",
   "id": "55d76ed9",
   "metadata": {},
   "source": [
    "# Token economy"
   ]
  },
  {
   "cell_type": "code",
   "execution_count": 5,
   "id": "08aef3cc",
   "metadata": {
    "scrolled": true
   },
   "outputs": [
    {
     "data": {
      "text/plain": [
       "True"
      ]
     },
     "execution_count": 5,
     "metadata": {},
     "output_type": "execute_result"
    }
   ],
   "source": [
    "te=TokenEconomy_Basic(holding_time=HOLDING_TIME,supply=SUPPLY,token='tokenA')\n",
    "te.add_agent_pools([ap_fiat,ap_token])"
   ]
  },
  {
   "cell_type": "code",
   "execution_count": 6,
   "id": "29c26bce",
   "metadata": {},
   "outputs": [
    {
     "name": "stderr",
     "output_type": "stream",
     "text": [
      "100%|███████████████████████████████████████████| 50/50 [00:01<00:00, 49.38it/s]\n"
     ]
    }
   ],
   "source": [
    "meta=TokenMetaSimulator(te)\n",
    "meta.execute(iterations=ITERATIONS,repetitions=50)\n",
    "reps=meta.get_data()"
   ]
  },
  {
   "cell_type": "code",
   "execution_count": 7,
   "id": "2c0586a3",
   "metadata": {},
   "outputs": [
    {
     "data": {
      "text/html": [
       "<div>\n",
       "<style scoped>\n",
       "    .dataframe tbody tr th:only-of-type {\n",
       "        vertical-align: middle;\n",
       "    }\n",
       "\n",
       "    .dataframe tbody tr th {\n",
       "        vertical-align: top;\n",
       "    }\n",
       "\n",
       "    .dataframe thead th {\n",
       "        text-align: right;\n",
       "    }\n",
       "</style>\n",
       "<table border=\"1\" class=\"dataframe\">\n",
       "  <thead>\n",
       "    <tr style=\"text-align: right;\">\n",
       "      <th></th>\n",
       "      <th>transactions_fiat</th>\n",
       "      <th>supply</th>\n",
       "      <th>holding_time</th>\n",
       "      <th>tokenA</th>\n",
       "      <th>tokenA_price</th>\n",
       "      <th>repetition_run</th>\n",
       "      <th>iteration_time</th>\n",
       "    </tr>\n",
       "  </thead>\n",
       "  <tbody>\n",
       "    <tr>\n",
       "      <th>0</th>\n",
       "      <td>240622.059384</td>\n",
       "      <td>170000000.0</td>\n",
       "      <td>0.1</td>\n",
       "      <td>0.000000e+00</td>\n",
       "      <td>None</td>\n",
       "      <td>0</td>\n",
       "      <td>0</td>\n",
       "    </tr>\n",
       "    <tr>\n",
       "      <th>1</th>\n",
       "      <td>8464.474065</td>\n",
       "      <td>170000000.0</td>\n",
       "      <td>0.1</td>\n",
       "      <td>5.977608e+07</td>\n",
       "      <td>None</td>\n",
       "      <td>0</td>\n",
       "      <td>1</td>\n",
       "    </tr>\n",
       "    <tr>\n",
       "      <th>2</th>\n",
       "      <td>442.759401</td>\n",
       "      <td>170000000.0</td>\n",
       "      <td>0.1</td>\n",
       "      <td>8.892354e+07</td>\n",
       "      <td>None</td>\n",
       "      <td>0</td>\n",
       "      <td>2</td>\n",
       "    </tr>\n",
       "    <tr>\n",
       "      <th>3</th>\n",
       "      <td>61088.536256</td>\n",
       "      <td>170000000.0</td>\n",
       "      <td>0.1</td>\n",
       "      <td>2.957135e+07</td>\n",
       "      <td>None</td>\n",
       "      <td>0</td>\n",
       "      <td>3</td>\n",
       "    </tr>\n",
       "    <tr>\n",
       "      <th>4</th>\n",
       "      <td>52382.262860</td>\n",
       "      <td>170000000.0</td>\n",
       "      <td>0.1</td>\n",
       "      <td>5.900050e+07</td>\n",
       "      <td>None</td>\n",
       "      <td>0</td>\n",
       "      <td>4</td>\n",
       "    </tr>\n",
       "    <tr>\n",
       "      <th>...</th>\n",
       "      <td>...</td>\n",
       "      <td>...</td>\n",
       "      <td>...</td>\n",
       "      <td>...</td>\n",
       "      <td>...</td>\n",
       "      <td>...</td>\n",
       "      <td>...</td>\n",
       "    </tr>\n",
       "    <tr>\n",
       "      <th>67</th>\n",
       "      <td>1355.125672</td>\n",
       "      <td>170000000.0</td>\n",
       "      <td>0.1</td>\n",
       "      <td>1.310920e+01</td>\n",
       "      <td>None</td>\n",
       "      <td>49</td>\n",
       "      <td>67</td>\n",
       "    </tr>\n",
       "    <tr>\n",
       "      <th>68</th>\n",
       "      <td>60885.942985</td>\n",
       "      <td>170000000.0</td>\n",
       "      <td>0.1</td>\n",
       "      <td>1.856124e+07</td>\n",
       "      <td>None</td>\n",
       "      <td>49</td>\n",
       "      <td>68</td>\n",
       "    </tr>\n",
       "    <tr>\n",
       "      <th>69</th>\n",
       "      <td>4069.569922</td>\n",
       "      <td>170000000.0</td>\n",
       "      <td>0.1</td>\n",
       "      <td>5.520691e+07</td>\n",
       "      <td>None</td>\n",
       "      <td>49</td>\n",
       "      <td>69</td>\n",
       "    </tr>\n",
       "    <tr>\n",
       "      <th>70</th>\n",
       "      <td>86.824936</td>\n",
       "      <td>170000000.0</td>\n",
       "      <td>0.1</td>\n",
       "      <td>3.626978e+07</td>\n",
       "      <td>None</td>\n",
       "      <td>49</td>\n",
       "      <td>70</td>\n",
       "    </tr>\n",
       "    <tr>\n",
       "      <th>71</th>\n",
       "      <td>650.359549</td>\n",
       "      <td>170000000.0</td>\n",
       "      <td>0.1</td>\n",
       "      <td>3.560998e+07</td>\n",
       "      <td>None</td>\n",
       "      <td>49</td>\n",
       "      <td>71</td>\n",
       "    </tr>\n",
       "  </tbody>\n",
       "</table>\n",
       "<p>3600 rows × 7 columns</p>\n",
       "</div>"
      ],
      "text/plain": [
       "    transactions_fiat       supply  holding_time        tokenA tokenA_price  \\\n",
       "0       240622.059384  170000000.0           0.1  0.000000e+00         None   \n",
       "1         8464.474065  170000000.0           0.1  5.977608e+07         None   \n",
       "2          442.759401  170000000.0           0.1  8.892354e+07         None   \n",
       "3        61088.536256  170000000.0           0.1  2.957135e+07         None   \n",
       "4        52382.262860  170000000.0           0.1  5.900050e+07         None   \n",
       "..                ...          ...           ...           ...          ...   \n",
       "67        1355.125672  170000000.0           0.1  1.310920e+01         None   \n",
       "68       60885.942985  170000000.0           0.1  1.856124e+07         None   \n",
       "69        4069.569922  170000000.0           0.1  5.520691e+07         None   \n",
       "70          86.824936  170000000.0           0.1  3.626978e+07         None   \n",
       "71         650.359549  170000000.0           0.1  3.560998e+07         None   \n",
       "\n",
       "    repetition_run  iteration_time  \n",
       "0                0               0  \n",
       "1                0               1  \n",
       "2                0               2  \n",
       "3                0               3  \n",
       "4                0               4  \n",
       "..             ...             ...  \n",
       "67              49              67  \n",
       "68              49              68  \n",
       "69              49              69  \n",
       "70              49              70  \n",
       "71              49              71  \n",
       "\n",
       "[3600 rows x 7 columns]"
      ]
     },
     "execution_count": 7,
     "metadata": {},
     "output_type": "execute_result"
    }
   ],
   "source": [
    "reps"
   ]
  },
  {
   "cell_type": "code",
   "execution_count": 8,
   "id": "c1c2c5d7",
   "metadata": {},
   "outputs": [
    {
     "ename": "KeyError",
     "evalue": "'Column not found: price'",
     "output_type": "error",
     "traceback": [
      "\u001b[0;31m---------------------------------------------------------------------------\u001b[0m",
      "\u001b[0;31mKeyError\u001b[0m                                  Traceback (most recent call last)",
      "\u001b[0;32m/var/folders/yz/kqd5yqtx0dx0qfpmm8f_wdg40000gn/T/ipykernel_68481/3748793662.py\u001b[0m in \u001b[0;36m<cell line: 1>\u001b[0;34m()\u001b[0m\n\u001b[0;32m----> 1\u001b[0;31m \u001b[0mplot\u001b[0m\u001b[0;34m,\u001b[0m\u001b[0mdata\u001b[0m\u001b[0;34m=\u001b[0m\u001b[0mmeta\u001b[0m\u001b[0;34m.\u001b[0m\u001b[0mget_timeseries\u001b[0m\u001b[0;34m(\u001b[0m\u001b[0;34m'price'\u001b[0m\u001b[0;34m)\u001b[0m\u001b[0;34m\u001b[0m\u001b[0;34m\u001b[0m\u001b[0m\n\u001b[0m\u001b[1;32m      2\u001b[0m \u001b[0mplot\u001b[0m\u001b[0;34m\u001b[0m\u001b[0;34m\u001b[0m\u001b[0m\n",
      "\u001b[0;32m~/Dropbox (Personal)/Freelance/Tokenomics_Tool/notebooks/../simulationcomponents/tokeneconomyclasses.py\u001b[0m in \u001b[0;36mget_timeseries\u001b[0;34m(self, feature)\u001b[0m\n\u001b[1;32m    357\u001b[0m         \"\"\"\n\u001b[1;32m    358\u001b[0m \u001b[0;34m\u001b[0m\u001b[0m\n\u001b[0;32m--> 359\u001b[0;31m         \u001b[0mtimeseries_mean\u001b[0m\u001b[0;34m=\u001b[0m\u001b[0mself\u001b[0m\u001b[0;34m.\u001b[0m\u001b[0mdata\u001b[0m\u001b[0;34m.\u001b[0m\u001b[0mgroupby\u001b[0m\u001b[0;34m(\u001b[0m\u001b[0;34m'iteration_time'\u001b[0m\u001b[0;34m)\u001b[0m\u001b[0;34m[\u001b[0m\u001b[0mfeature\u001b[0m\u001b[0;34m]\u001b[0m\u001b[0;34m.\u001b[0m\u001b[0mmean\u001b[0m\u001b[0;34m(\u001b[0m\u001b[0;34m)\u001b[0m\u001b[0;34m\u001b[0m\u001b[0;34m\u001b[0m\u001b[0m\n\u001b[0m\u001b[1;32m    360\u001b[0m         \u001b[0mtimeseries_std\u001b[0m\u001b[0;34m=\u001b[0m\u001b[0mself\u001b[0m\u001b[0;34m.\u001b[0m\u001b[0mdata\u001b[0m\u001b[0;34m.\u001b[0m\u001b[0mgroupby\u001b[0m\u001b[0;34m(\u001b[0m\u001b[0;34m'iteration_time'\u001b[0m\u001b[0;34m)\u001b[0m\u001b[0;34m[\u001b[0m\u001b[0mfeature\u001b[0m\u001b[0;34m]\u001b[0m\u001b[0;34m.\u001b[0m\u001b[0mstd\u001b[0m\u001b[0;34m(\u001b[0m\u001b[0;34m)\u001b[0m\u001b[0;34m\u001b[0m\u001b[0;34m\u001b[0m\u001b[0m\n\u001b[1;32m    361\u001b[0m \u001b[0;34m\u001b[0m\u001b[0m\n",
      "\u001b[0;32m~/opt/anaconda3/envs/kalgera3/lib/python3.9/site-packages/pandas/core/groupby/generic.py\u001b[0m in \u001b[0;36m__getitem__\u001b[0;34m(self, key)\u001b[0m\n\u001b[1;32m   1336\u001b[0m                 \u001b[0mstacklevel\u001b[0m\u001b[0;34m=\u001b[0m\u001b[0mfind_stack_level\u001b[0m\u001b[0;34m(\u001b[0m\u001b[0;34m)\u001b[0m\u001b[0;34m,\u001b[0m\u001b[0;34m\u001b[0m\u001b[0;34m\u001b[0m\u001b[0m\n\u001b[1;32m   1337\u001b[0m             )\n\u001b[0;32m-> 1338\u001b[0;31m         \u001b[0;32mreturn\u001b[0m \u001b[0msuper\u001b[0m\u001b[0;34m(\u001b[0m\u001b[0;34m)\u001b[0m\u001b[0;34m.\u001b[0m\u001b[0m__getitem__\u001b[0m\u001b[0;34m(\u001b[0m\u001b[0mkey\u001b[0m\u001b[0;34m)\u001b[0m\u001b[0;34m\u001b[0m\u001b[0;34m\u001b[0m\u001b[0m\n\u001b[0m\u001b[1;32m   1339\u001b[0m \u001b[0;34m\u001b[0m\u001b[0m\n\u001b[1;32m   1340\u001b[0m     \u001b[0;32mdef\u001b[0m \u001b[0m_gotitem\u001b[0m\u001b[0;34m(\u001b[0m\u001b[0mself\u001b[0m\u001b[0;34m,\u001b[0m \u001b[0mkey\u001b[0m\u001b[0;34m,\u001b[0m \u001b[0mndim\u001b[0m\u001b[0;34m:\u001b[0m \u001b[0mint\u001b[0m\u001b[0;34m,\u001b[0m \u001b[0msubset\u001b[0m\u001b[0;34m=\u001b[0m\u001b[0;32mNone\u001b[0m\u001b[0;34m)\u001b[0m\u001b[0;34m:\u001b[0m\u001b[0;34m\u001b[0m\u001b[0;34m\u001b[0m\u001b[0m\n",
      "\u001b[0;32m~/opt/anaconda3/envs/kalgera3/lib/python3.9/site-packages/pandas/core/base.py\u001b[0m in \u001b[0;36m__getitem__\u001b[0;34m(self, key)\u001b[0m\n\u001b[1;32m    248\u001b[0m         \u001b[0;32melse\u001b[0m\u001b[0;34m:\u001b[0m\u001b[0;34m\u001b[0m\u001b[0;34m\u001b[0m\u001b[0m\n\u001b[1;32m    249\u001b[0m             \u001b[0;32mif\u001b[0m \u001b[0mkey\u001b[0m \u001b[0;32mnot\u001b[0m \u001b[0;32min\u001b[0m \u001b[0mself\u001b[0m\u001b[0;34m.\u001b[0m\u001b[0mobj\u001b[0m\u001b[0;34m:\u001b[0m\u001b[0;34m\u001b[0m\u001b[0;34m\u001b[0m\u001b[0m\n\u001b[0;32m--> 250\u001b[0;31m                 \u001b[0;32mraise\u001b[0m \u001b[0mKeyError\u001b[0m\u001b[0;34m(\u001b[0m\u001b[0;34mf\"Column not found: {key}\"\u001b[0m\u001b[0;34m)\u001b[0m\u001b[0;34m\u001b[0m\u001b[0;34m\u001b[0m\u001b[0m\n\u001b[0m\u001b[1;32m    251\u001b[0m             \u001b[0msubset\u001b[0m \u001b[0;34m=\u001b[0m \u001b[0mself\u001b[0m\u001b[0;34m.\u001b[0m\u001b[0mobj\u001b[0m\u001b[0;34m[\u001b[0m\u001b[0mkey\u001b[0m\u001b[0;34m]\u001b[0m\u001b[0;34m\u001b[0m\u001b[0;34m\u001b[0m\u001b[0m\n\u001b[1;32m    252\u001b[0m             \u001b[0mndim\u001b[0m \u001b[0;34m=\u001b[0m \u001b[0msubset\u001b[0m\u001b[0;34m.\u001b[0m\u001b[0mndim\u001b[0m\u001b[0;34m\u001b[0m\u001b[0;34m\u001b[0m\u001b[0m\n",
      "\u001b[0;31mKeyError\u001b[0m: 'Column not found: price'"
     ]
    }
   ],
   "source": [
    "plot,data=meta.get_timeseries('price')\n",
    "plot"
   ]
  },
  {
   "cell_type": "markdown",
   "id": "e827a5c2",
   "metadata": {},
   "source": [
    "# Stochastic holding time"
   ]
  },
  {
   "cell_type": "code",
   "execution_count": null,
   "id": "a043853e",
   "metadata": {},
   "outputs": [],
   "source": [
    "te=TokenEconomy_Basic(holding_time=HoldingTime_Stochastic(),supply=SUPPLY,token='tokenA')\n",
    "te.add_agent_pools([ap_luxury,ap_luxury_sec,ap_fine])\n",
    "meta=TokenMetaSimulator(te)\n",
    "meta.execute(iterations=ITERATIONS,repetitions=50)\n",
    "reps=meta.get_data()\n",
    "plot,data=meta.get_timeseries('price')\n",
    "plot"
   ]
  },
  {
   "cell_type": "markdown",
   "id": "a4dcafb6",
   "metadata": {},
   "source": [
    "# Price plus noise"
   ]
  },
  {
   "cell_type": "code",
   "execution_count": null,
   "id": "8cbfbdcb",
   "metadata": {},
   "outputs": [],
   "source": [
    "te=TokenEconomy_Basic(holding_time=HoldingTime_Stochastic(),supply=SUPPLY,price_function=PriceFunction_EOE_Noise,token='tokenA')\n",
    "te.add_agent_pools([ap_luxury,ap_luxury_sec,ap_fine])\n",
    "meta=TokenMetaSimulator(te)\n",
    "meta.execute(iterations=ITERATIONS,repetitions=50)\n",
    "reps=meta.get_data()\n",
    "plot,data=meta.get_timeseries('price')\n",
    "plot"
   ]
  },
  {
   "cell_type": "markdown",
   "id": "8ff92cdb",
   "metadata": {},
   "source": [
    "# Price plus noise plus adaptive variance"
   ]
  },
  {
   "cell_type": "code",
   "execution_count": null,
   "id": "1ce170ba",
   "metadata": {},
   "outputs": [],
   "source": [
    "te=TokenEconomy_Basic(holding_time=HoldingTime_Stochastic(),supply=SUPPLY,\n",
    "                      price_function=PriceFunction_EOE_AdaptiveNoise,token='tokenA')\n",
    "te.add_agent_pools([ap_luxury,ap_luxury_sec,ap_fine])\n",
    "meta=TokenMetaSimulator(te)\n",
    "meta.execute(iterations=ITERATIONS,repetitions=50)\n",
    "reps=meta.get_data()\n",
    "plot,data=meta.get_timeseries('price')\n",
    "plot"
   ]
  },
  {
   "cell_type": "code",
   "execution_count": null,
   "id": "7f152879",
   "metadata": {},
   "outputs": [],
   "source": []
  }
 ],
 "metadata": {
  "kernelspec": {
   "display_name": "Python 3 (ipykernel)",
   "language": "python",
   "name": "python3"
  },
  "language_info": {
   "codemirror_mode": {
    "name": "ipython",
    "version": 3
   },
   "file_extension": ".py",
   "mimetype": "text/x-python",
   "name": "python",
   "nbconvert_exporter": "python",
   "pygments_lexer": "ipython3",
   "version": "3.9.12"
  }
 },
 "nbformat": 4,
 "nbformat_minor": 5
}
