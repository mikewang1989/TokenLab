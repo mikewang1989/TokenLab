{
 "cells": [
  {
   "cell_type": "markdown",
   "id": "4f062303",
   "metadata": {},
   "source": [
    "# Conditional agent pools\n",
    "\n",
    "One of the most powerful features of TokenLab are conditional agent pols. Conditional agent pools activate user_growth pools or transaction pools given certain conditions. This is a mechanism that can be used to create powerful conditional logic."
   ]
  },
  {
   "cell_type": "code",
   "execution_count": 1,
   "id": "7f8f4709",
   "metadata": {},
   "outputs": [],
   "source": [
    "import numpy as np\n",
    "import scipy\n",
    "import os\n",
    "import sys\n",
    "tokenlab_path=os.path.abspath(\"\").replace('notebooks','src')\n",
    "sys.path.insert(0,tokenlab_path)\n",
    "\n",
    "from TokenLab.simulationcomponents import *\n",
    "from TokenLab.simulationcomponents.usergrowthclasses import *\n",
    "from TokenLab.simulationcomponents.transactionclasses import *\n",
    "from TokenLab.simulationcomponents.tokeneconomyclasses import *\n",
    "from TokenLab.simulationcomponents.transactionclasses import *\n",
    "from TokenLab.simulationcomponents.agentpoolclasses import *\n",
    "from TokenLab.simulationcomponents.pricingclasses import *\n",
    "from TokenLab.simulationcomponents.supplyclasses import *\n",
    "from TokenLab.simulationcomponents.addons import Condition\n",
    "from utils.helpers import *\n",
    "from matplotlib import pyplot as plt"
   ]
  },
  {
   "cell_type": "code",
   "execution_count": 2,
   "id": "b9cdf651",
   "metadata": {},
   "outputs": [],
   "source": [
    "ITERATIONS=20\n",
    "HOLDING_TIME=HoldingTime_Adaptive(1)\n",
    "SUPPLY=10**7\n",
    "INITIAL_PRICE=1"
   ]
  },
  {
   "cell_type": "markdown",
   "id": "2996c593",
   "metadata": {},
   "source": [
    "At the heart of the conditional agent pools lie condition objects. Condition objects follow a particular format. Here's the documentation for a condition\n",
    "\n",
    "        variables: The variables must be in a list of the variables that the condition must access. \n",
    "        \n",
    "        condition:  A lambda expression or function that accepts a list of variables and returns a Boolean. \n",
    "        The condition must use brackets [] to access the variables. e.g. Condition(ap_fiat,['transactions'],lambda x:x[0]>1000)\n",
    "        \n",
    "        sim_component: the module where the variables will be read from"
   ]
  },
  {
   "cell_type": "code",
   "execution_count": 3,
   "id": "f66f5f77",
   "metadata": {},
   "outputs": [],
   "source": [
    "con1=Condition(variables=['num_users'],condition=lambda x:x[0]>10000)"
   ]
  },
  {
   "cell_type": "markdown",
   "id": "443901bc",
   "metadata": {},
   "source": [
    "So, the condition we defined translates as follows: \"read the variable num users, and return whether it is over 10000 or not.\"\n",
    "\n",
    "We have not defined the sim_component. In this case, once we feed the condition as input to an agent pool, the agent pool will add the token economy to which it belongs as the simulation component. If we want the condition to read the num_users input of the agent pool itself, then we need to use the argument connect_to_token_economy=False\n",
    "    "
   ]
  },
  {
   "cell_type": "code",
   "execution_count": 4,
   "id": "738186d6",
   "metadata": {},
   "outputs": [],
   "source": [
    "usm_fiat=UserGrowth_Spaced(100,20000,ITERATIONS,log_saturated_space)\n",
    "ap_fiat=AgentPool_Basic(usm_fiat,1000,currency='$')"
   ]
  },
  {
   "cell_type": "markdown",
   "id": "37433384",
   "metadata": {},
   "source": [
    "Now we define a conditional agent pool. The conditional agent pool absorbs the condition through the add_condition() function. This ties in the condition to a transaction management controller, which in this case is constant. The effect is that when the condition is triggered, the transaction management controller will be activated, effectivelly adding a large number of transactions.\n",
    "\n",
    "This type of mechanism in this example can be used to simulate herd behaviour."
   ]
  },
  {
   "cell_type": "code",
   "execution_count": 5,
   "id": "4005116a",
   "metadata": {},
   "outputs": [],
   "source": [
    "usm_conditional=UserGrowth_Spaced(100,20000,ITERATIONS,log_saturated_space)\n",
    "ap_conditional=AgentPool_Conditional(users_controller=usm_conditional,currency='$',connect_to_token_economy=True)\n",
    "ap_conditional.add_condition(con1,TransactionManagement_Constant(200))"
   ]
  },
  {
   "cell_type": "code",
   "execution_count": 6,
   "id": "1443175c",
   "metadata": {},
   "outputs": [
    {
     "data": {
      "text/plain": [
       "True"
      ]
     },
     "execution_count": 6,
     "metadata": {},
     "output_type": "execute_result"
    }
   ],
   "source": [
    "te=TokenEconomy_Basic(holding_time=HOLDING_TIME,supply=SUPPLY,token='tokenA',initial_price=INITIAL_PRICE)\n",
    "te.add_agent_pools([ap_fiat,ap_conditional])"
   ]
  },
  {
   "cell_type": "code",
   "execution_count": 7,
   "id": "ebc7b2ad",
   "metadata": {},
   "outputs": [
    {
     "name": "stderr",
     "output_type": "stream",
     "text": [
      "100%|██████████████████████████████████████████| 50/50 [00:00<00:00, 587.27it/s]\n"
     ]
    },
    {
     "data": {
      "image/png": "[encoded data removed]",
      "text/plain": [
       "<Figure size 640x480 with 1 Axes>"
      ]
     },
     "metadata": {},
     "output_type": "display_data"
    },
    {
     "data": {
      "text/plain": [
       "<matplotlib.collections.PolyCollection at 0x7fcb712c3580>"
      ]
     },
     "execution_count": 7,
     "metadata": {},
     "output_type": "execute_result"
    }
   ],
   "source": [
    "meta=TokenMetaSimulator(te)\n",
    "meta.execute(iterations=ITERATIONS,repetitions=50)\n",
    "reps=meta.get_data()\n",
    "plot,data=meta.get_timeseries('tokenA_price')\n",
    "plot"
   ]
  },
  {
   "cell_type": "code",
   "execution_count": null,
   "id": "56da660a",
   "metadata": {},
   "outputs": [],
   "source": []
  }
 ],
 "metadata": {
  "kernelspec": {
   "display_name": "Python 3 (ipykernel)",
   "language": "python",
   "name": "python3"
  },
  "language_info": {
   "codemirror_mode": {
    "name": "ipython",
    "version": 3
   },
   "file_extension": ".py",
   "mimetype": "text/x-python",
   "name": "python",
   "nbconvert_exporter": "python",
   "pygments_lexer": "ipython3",
   "version": "3.9.12"
  }
 },
 "nbformat": 4,
 "nbformat_minor": 5
}
