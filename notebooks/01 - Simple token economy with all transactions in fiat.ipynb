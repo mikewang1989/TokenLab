{
 "cells": [
  {
   "cell_type": "markdown",
   "id": "c9d8e8e0",
   "metadata": {},
   "source": [
    "# Example of a simple transaction fiat->token economy\n",
    "\n",
    "This is a super basic type of token economy, that will not often happen in practice. It assumes that all inflows are in fiat, and pricing happens through external forces. \n",
    "\n",
    "Then, these transactions are simply converted into a token equivalent. This presents the most basic case of a token economy."
   ]
  },
  {
   "cell_type": "code",
   "execution_count": 1,
   "id": "4d5ec301",
   "metadata": {},
   "outputs": [
    {
     "name": "stderr",
     "output_type": "stream",
     "text": [
      "<frozen importlib._bootstrap>:228: RuntimeWarning: scipy._lib.messagestream.MessageStream size changed, may indicate binary incompatibility. Expected 56 from C header, got 64 from PyObject\n"
     ]
    }
   ],
   "source": [
    "import numpy as np\n",
    "import scipy\n",
    "import sys\n",
    "import os\n",
    "tokenlab_path=os.path.abspath(\"\").replace('notebooks','src')\n",
    "sys.path.insert(0,tokenlab_path)\n",
    "\n",
    "\n",
    "from TokenLab.simulationcomponents import *\n",
    "from TokenLab.simulationcomponents.usergrowthclasses import *\n",
    "from TokenLab.simulationcomponents.transactionclasses import *\n",
    "from TokenLab.simulationcomponents.tokeneconomyclasses import *\n",
    "from TokenLab.simulationcomponents.transactionclasses import *\n",
    "from TokenLab.simulationcomponents.agentpoolclasses import *\n",
    "from TokenLab.simulationcomponents.pricingclasses import *\n",
    "from TokenLab.simulationcomponents.addons import AddOn_RandomNoise, AddOn_RandomNoiseProportional\n",
    "from TokenLab.utils.helpers import *\n",
    "from matplotlib import pyplot as plt"
   ]
  },
  {
   "cell_type": "code",
   "execution_count": 2,
   "id": "c93127eb",
   "metadata": {},
   "outputs": [
    {
     "data": {
      "text/plain": [
       "'/Users/stylianoskampakis/Dropbox (Personal)/Freelance/TokenLab/src'"
      ]
     },
     "execution_count": 2,
     "metadata": {},
     "output_type": "execute_result"
    }
   ],
   "source": [
    "tokenlab_path"
   ]
  },
  {
   "cell_type": "code",
   "execution_count": 3,
   "id": "64a62fd1",
   "metadata": {},
   "outputs": [],
   "source": [
    "ITERATIONS=60\n",
    "HOLDING_TIME=1.1\n",
    "SUPPLY=10**8\n",
    "INITIAL_PRICE=0.1"
   ]
  },
  {
   "cell_type": "markdown",
   "id": "b513d57e",
   "metadata": {},
   "source": [
    "## Agent pools\n",
    "\n",
    "TokenLab is based a modular logic. A token economy is composed of agent pools that can have various dependencies with each other.\n",
    "\n",
    "The most basic agent pool contains a group of users who act independently from each other. This, for example, can be a group of consumers, who independently decide to buy a token in order to access a good or a service. \n",
    "\n",
    "Agent pools are using Controller objects for their inside parts.\n",
    "\n",
    "The simplest type of agent pool is the AgentPool_Basic type. It assumes that there are only two Controller objects needed: one to simulate the number of users, and one to simulate the volume of transactions.\n",
    "\n",
    "We can also simply provide a fixed number to each one of those parameters. This is a very simple case, where we assume we have a steady number of users, and that the total value of transactions at each unit of time is simply users *  transactions_controller\n",
    "\n",
    "\n",
    "### Currency and agentpools\n",
    "\n",
    "In this particular example, we are setting the currency to be in USD which is the default option for token economies. When creating an agent pool we can either denominate in USD or in the token. An AgentPool_Basic object is used to generate transactions. When these transactions are denominated in fiat, then the token economy will convert them internally into tokens, when calculating price and other parameters.\n",
    "\n",
    "If the agent pool's currency was denominated in token, then it take the current price, and run calculations to understand the transaction volume.\n",
    "\n",
    "It's usually easier to make assumptions for the demand of a token based on fiat, rather than a token. However, an agent pool with the token as a currency can be used when we are simulating pools like speculators of the token."
   ]
  },
  {
   "cell_type": "code",
   "execution_count": 4,
   "id": "a7f6b8cd",
   "metadata": {},
   "outputs": [],
   "source": [
    "ap_fiat=AgentPool_Basic(users_controller=10000,transactions_controller=1000,currency='$')"
   ]
  },
  {
   "cell_type": "markdown",
   "id": "55d76ed9",
   "metadata": {},
   "source": [
    "# Token economy\n",
    "\n",
    "Now, we define a token economy object. We then feed this object into the TokenMetaSimulator which allows to perform multiple experiments with a token economy. The parameter iterations refers to the internal iterations for each token economy run, and the parameter repetitions is the total number of simulations to perform. \n",
    "\n",
    "This simple token economy assumes an average holding time which is determined by the user. There is also the option to create adaptive holding times, calculated from the sim's parameters or stochastic ones, as we will explore later."
   ]
  },
  {
   "cell_type": "code",
   "execution_count": 5,
   "id": "08aef3cc",
   "metadata": {
    "scrolled": true
   },
   "outputs": [
    {
     "data": {
      "text/plain": [
       "True"
      ]
     },
     "execution_count": 5,
     "metadata": {},
     "output_type": "execute_result"
    }
   ],
   "source": [
    "te=TokenEconomy_Basic(holding_time=HOLDING_TIME,supply=SUPPLY,token='tokenA',initial_price=INITIAL_PRICE,supply_is_added=False)\n",
    "te.add_agent_pools([ap_fiat])"
   ]
  },
  {
   "cell_type": "code",
   "execution_count": 6,
   "id": "29c26bce",
   "metadata": {},
   "outputs": [
    {
     "name": "stderr",
     "output_type": "stream",
     "text": [
      "100%|██████████████████████████████████████████| 50/50 [00:00<00:00, 523.24it/s]\n"
     ]
    }
   ],
   "source": [
    "meta=TokenMetaSimulator(te)\n",
    "meta.execute(iterations=ITERATIONS,repetitions=50)\n",
    "reps=meta.get_data()"
   ]
  },
  {
   "cell_type": "code",
   "execution_count": 7,
   "id": "2c0586a3",
   "metadata": {},
   "outputs": [
    {
     "data": {
      "text/html": [
       "<div>\n",
       "<style scoped>\n",
       "    .dataframe tbody tr th:only-of-type {\n",
       "        vertical-align: middle;\n",
       "    }\n",
       "\n",
       "    .dataframe tbody tr th {\n",
       "        vertical-align: top;\n",
       "    }\n",
       "\n",
       "    .dataframe thead th {\n",
       "        text-align: right;\n",
       "    }\n",
       "</style>\n",
       "<table border=\"1\" class=\"dataframe\">\n",
       "  <thead>\n",
       "    <tr style=\"text-align: right;\">\n",
       "      <th></th>\n",
       "      <th>tokenA_price</th>\n",
       "      <th>transactions_$</th>\n",
       "      <th>num_transactions</th>\n",
       "      <th>num_users</th>\n",
       "      <th>iteration</th>\n",
       "      <th>holding_time</th>\n",
       "      <th>effective_holding_time</th>\n",
       "      <th>supply</th>\n",
       "      <th>transactions_tokenA</th>\n",
       "      <th>repetition_run</th>\n",
       "      <th>iteration_time</th>\n",
       "    </tr>\n",
       "  </thead>\n",
       "  <tbody>\n",
       "    <tr>\n",
       "      <th>0</th>\n",
       "      <td>0.096608</td>\n",
       "      <td>10000000</td>\n",
       "      <td>1</td>\n",
       "      <td>10000</td>\n",
       "      <td>1</td>\n",
       "      <td>1.1</td>\n",
       "      <td>0.966080</td>\n",
       "      <td>100000000</td>\n",
       "      <td>1.000000e+08</td>\n",
       "      <td>0</td>\n",
       "      <td>0</td>\n",
       "    </tr>\n",
       "    <tr>\n",
       "      <th>1</th>\n",
       "      <td>0.094234</td>\n",
       "      <td>10000000</td>\n",
       "      <td>1</td>\n",
       "      <td>20000</td>\n",
       "      <td>2</td>\n",
       "      <td>1.1</td>\n",
       "      <td>0.942336</td>\n",
       "      <td>100000000</td>\n",
       "      <td>1.035111e+08</td>\n",
       "      <td>0</td>\n",
       "      <td>1</td>\n",
       "    </tr>\n",
       "    <tr>\n",
       "      <th>2</th>\n",
       "      <td>0.092572</td>\n",
       "      <td>10000000</td>\n",
       "      <td>1</td>\n",
       "      <td>30000</td>\n",
       "      <td>3</td>\n",
       "      <td>1.1</td>\n",
       "      <td>0.925715</td>\n",
       "      <td>100000000</td>\n",
       "      <td>1.061192e+08</td>\n",
       "      <td>0</td>\n",
       "      <td>2</td>\n",
       "    </tr>\n",
       "    <tr>\n",
       "      <th>3</th>\n",
       "      <td>0.091408</td>\n",
       "      <td>10000000</td>\n",
       "      <td>1</td>\n",
       "      <td>40000</td>\n",
       "      <td>4</td>\n",
       "      <td>1.1</td>\n",
       "      <td>0.914081</td>\n",
       "      <td>100000000</td>\n",
       "      <td>1.080246e+08</td>\n",
       "      <td>0</td>\n",
       "      <td>3</td>\n",
       "    </tr>\n",
       "    <tr>\n",
       "      <th>4</th>\n",
       "      <td>0.090594</td>\n",
       "      <td>10000000</td>\n",
       "      <td>1</td>\n",
       "      <td>50000</td>\n",
       "      <td>5</td>\n",
       "      <td>1.1</td>\n",
       "      <td>0.905937</td>\n",
       "      <td>100000000</td>\n",
       "      <td>1.093995e+08</td>\n",
       "      <td>0</td>\n",
       "      <td>4</td>\n",
       "    </tr>\n",
       "    <tr>\n",
       "      <th>...</th>\n",
       "      <td>...</td>\n",
       "      <td>...</td>\n",
       "      <td>...</td>\n",
       "      <td>...</td>\n",
       "      <td>...</td>\n",
       "      <td>...</td>\n",
       "      <td>...</td>\n",
       "      <td>...</td>\n",
       "      <td>...</td>\n",
       "      <td>...</td>\n",
       "      <td>...</td>\n",
       "    </tr>\n",
       "    <tr>\n",
       "      <th>55</th>\n",
       "      <td>0.088693</td>\n",
       "      <td>10000000</td>\n",
       "      <td>1</td>\n",
       "      <td>560000</td>\n",
       "      <td>56</td>\n",
       "      <td>1.1</td>\n",
       "      <td>0.886934</td>\n",
       "      <td>100000000</td>\n",
       "      <td>1.127480e+08</td>\n",
       "      <td>49</td>\n",
       "      <td>55</td>\n",
       "    </tr>\n",
       "    <tr>\n",
       "      <th>56</th>\n",
       "      <td>0.088693</td>\n",
       "      <td>10000000</td>\n",
       "      <td>1</td>\n",
       "      <td>570000</td>\n",
       "      <td>57</td>\n",
       "      <td>1.1</td>\n",
       "      <td>0.886934</td>\n",
       "      <td>100000000</td>\n",
       "      <td>1.127480e+08</td>\n",
       "      <td>49</td>\n",
       "      <td>56</td>\n",
       "    </tr>\n",
       "    <tr>\n",
       "      <th>57</th>\n",
       "      <td>0.088693</td>\n",
       "      <td>10000000</td>\n",
       "      <td>1</td>\n",
       "      <td>580000</td>\n",
       "      <td>58</td>\n",
       "      <td>1.1</td>\n",
       "      <td>0.886934</td>\n",
       "      <td>100000000</td>\n",
       "      <td>1.127480e+08</td>\n",
       "      <td>49</td>\n",
       "      <td>57</td>\n",
       "    </tr>\n",
       "    <tr>\n",
       "      <th>58</th>\n",
       "      <td>0.088693</td>\n",
       "      <td>10000000</td>\n",
       "      <td>1</td>\n",
       "      <td>590000</td>\n",
       "      <td>59</td>\n",
       "      <td>1.1</td>\n",
       "      <td>0.886934</td>\n",
       "      <td>100000000</td>\n",
       "      <td>1.127480e+08</td>\n",
       "      <td>49</td>\n",
       "      <td>58</td>\n",
       "    </tr>\n",
       "    <tr>\n",
       "      <th>59</th>\n",
       "      <td>0.088693</td>\n",
       "      <td>10000000</td>\n",
       "      <td>1</td>\n",
       "      <td>600000</td>\n",
       "      <td>60</td>\n",
       "      <td>1.1</td>\n",
       "      <td>0.886934</td>\n",
       "      <td>100000000</td>\n",
       "      <td>1.127480e+08</td>\n",
       "      <td>49</td>\n",
       "      <td>59</td>\n",
       "    </tr>\n",
       "  </tbody>\n",
       "</table>\n",
       "<p>3000 rows × 11 columns</p>\n",
       "</div>"
      ],
      "text/plain": [
       "    tokenA_price  transactions_$  num_transactions  num_users  iteration  \\\n",
       "0       0.096608        10000000                 1      10000          1   \n",
       "1       0.094234        10000000                 1      20000          2   \n",
       "2       0.092572        10000000                 1      30000          3   \n",
       "3       0.091408        10000000                 1      40000          4   \n",
       "4       0.090594        10000000                 1      50000          5   \n",
       "..           ...             ...               ...        ...        ...   \n",
       "55      0.088693        10000000                 1     560000         56   \n",
       "56      0.088693        10000000                 1     570000         57   \n",
       "57      0.088693        10000000                 1     580000         58   \n",
       "58      0.088693        10000000                 1     590000         59   \n",
       "59      0.088693        10000000                 1     600000         60   \n",
       "\n",
       "    holding_time  effective_holding_time     supply  transactions_tokenA  \\\n",
       "0            1.1                0.966080  100000000         1.000000e+08   \n",
       "1            1.1                0.942336  100000000         1.035111e+08   \n",
       "2            1.1                0.925715  100000000         1.061192e+08   \n",
       "3            1.1                0.914081  100000000         1.080246e+08   \n",
       "4            1.1                0.905937  100000000         1.093995e+08   \n",
       "..           ...                     ...        ...                  ...   \n",
       "55           1.1                0.886934  100000000         1.127480e+08   \n",
       "56           1.1                0.886934  100000000         1.127480e+08   \n",
       "57           1.1                0.886934  100000000         1.127480e+08   \n",
       "58           1.1                0.886934  100000000         1.127480e+08   \n",
       "59           1.1                0.886934  100000000         1.127480e+08   \n",
       "\n",
       "    repetition_run  iteration_time  \n",
       "0                0               0  \n",
       "1                0               1  \n",
       "2                0               2  \n",
       "3                0               3  \n",
       "4                0               4  \n",
       "..             ...             ...  \n",
       "55              49              55  \n",
       "56              49              56  \n",
       "57              49              57  \n",
       "58              49              58  \n",
       "59              49              59  \n",
       "\n",
       "[3000 rows x 11 columns]"
      ]
     },
     "execution_count": 7,
     "metadata": {},
     "output_type": "execute_result"
    }
   ],
   "source": [
    "reps"
   ]
  },
  {
   "cell_type": "markdown",
   "id": "875ea38c",
   "metadata": {},
   "source": [
    "We can use the get_timeseries() method for any of the columns produced by the metasimulator, in order to get a graph averaged across all repetitions/runs. \n",
    "\n",
    "As you can see below the price slightly drops to the fair value of the token. This happens because the total supply is slightly higher than it should be for the current transaction volume, if the token is to preserve its price."
   ]
  },
  {
   "cell_type": "code",
   "execution_count": 8,
   "id": "c1c2c5d7",
   "metadata": {},
   "outputs": [
    {
     "data": {
      "image/png": "[encoded data removed]",
      "text/plain": [
       "<Figure size 640x480 with 1 Axes>"
      ]
     },
     "metadata": {},
     "output_type": "display_data"
    }
   ],
   "source": [
    "plot,data=meta.get_timeseries('tokenA_price')\n",
    "plot"
   ]
  },
  {
   "cell_type": "code",
   "execution_count": 9,
   "id": "f6ce81b2",
   "metadata": {},
   "outputs": [
    {
     "data": {
      "image/png": "[encoded data removed]",
      "text/plain": [
       "<Figure size 640x480 with 1 Axes>"
      ]
     },
     "metadata": {},
     "output_type": "display_data"
    },
    {
     "data": {
      "text/plain": [
       "(None,\n",
       "                 supply_mean  supply_median   sd    quant_10%    quant_90%  \\\n",
       " iteration_time                                                              \n",
       " 0               100000000.0    100000000.0  0.0  100000000.0  100000000.0   \n",
       " 1               100000000.0    100000000.0  0.0  100000000.0  100000000.0   \n",
       " 2               100000000.0    100000000.0  0.0  100000000.0  100000000.0   \n",
       " 3               100000000.0    100000000.0  0.0  100000000.0  100000000.0   \n",
       " 4               100000000.0    100000000.0  0.0  100000000.0  100000000.0   \n",
       " 5               100000000.0    100000000.0  0.0  100000000.0  100000000.0   \n",
       " 6               100000000.0    100000000.0  0.0  100000000.0  100000000.0   \n",
       " 7               100000000.0    100000000.0  0.0  100000000.0  100000000.0   \n",
       " 8               100000000.0    100000000.0  0.0  100000000.0  100000000.0   \n",
       " 9               100000000.0    100000000.0  0.0  100000000.0  100000000.0   \n",
       " 10              100000000.0    100000000.0  0.0  100000000.0  100000000.0   \n",
       " 11              100000000.0    100000000.0  0.0  100000000.0  100000000.0   \n",
       " 12              100000000.0    100000000.0  0.0  100000000.0  100000000.0   \n",
       " 13              100000000.0    100000000.0  0.0  100000000.0  100000000.0   \n",
       " 14              100000000.0    100000000.0  0.0  100000000.0  100000000.0   \n",
       " 15              100000000.0    100000000.0  0.0  100000000.0  100000000.0   \n",
       " 16              100000000.0    100000000.0  0.0  100000000.0  100000000.0   \n",
       " 17              100000000.0    100000000.0  0.0  100000000.0  100000000.0   \n",
       " 18              100000000.0    100000000.0  0.0  100000000.0  100000000.0   \n",
       " 19              100000000.0    100000000.0  0.0  100000000.0  100000000.0   \n",
       " 20              100000000.0    100000000.0  0.0  100000000.0  100000000.0   \n",
       " 21              100000000.0    100000000.0  0.0  100000000.0  100000000.0   \n",
       " 22              100000000.0    100000000.0  0.0  100000000.0  100000000.0   \n",
       " 23              100000000.0    100000000.0  0.0  100000000.0  100000000.0   \n",
       " 24              100000000.0    100000000.0  0.0  100000000.0  100000000.0   \n",
       " 25              100000000.0    100000000.0  0.0  100000000.0  100000000.0   \n",
       " 26              100000000.0    100000000.0  0.0  100000000.0  100000000.0   \n",
       " 27              100000000.0    100000000.0  0.0  100000000.0  100000000.0   \n",
       " 28              100000000.0    100000000.0  0.0  100000000.0  100000000.0   \n",
       " 29              100000000.0    100000000.0  0.0  100000000.0  100000000.0   \n",
       " 30              100000000.0    100000000.0  0.0  100000000.0  100000000.0   \n",
       " 31              100000000.0    100000000.0  0.0  100000000.0  100000000.0   \n",
       " 32              100000000.0    100000000.0  0.0  100000000.0  100000000.0   \n",
       " 33              100000000.0    100000000.0  0.0  100000000.0  100000000.0   \n",
       " 34              100000000.0    100000000.0  0.0  100000000.0  100000000.0   \n",
       " 35              100000000.0    100000000.0  0.0  100000000.0  100000000.0   \n",
       " 36              100000000.0    100000000.0  0.0  100000000.0  100000000.0   \n",
       " 37              100000000.0    100000000.0  0.0  100000000.0  100000000.0   \n",
       " 38              100000000.0    100000000.0  0.0  100000000.0  100000000.0   \n",
       " 39              100000000.0    100000000.0  0.0  100000000.0  100000000.0   \n",
       " 40              100000000.0    100000000.0  0.0  100000000.0  100000000.0   \n",
       " 41              100000000.0    100000000.0  0.0  100000000.0  100000000.0   \n",
       " 42              100000000.0    100000000.0  0.0  100000000.0  100000000.0   \n",
       " 43              100000000.0    100000000.0  0.0  100000000.0  100000000.0   \n",
       " 44              100000000.0    100000000.0  0.0  100000000.0  100000000.0   \n",
       " 45              100000000.0    100000000.0  0.0  100000000.0  100000000.0   \n",
       " 46              100000000.0    100000000.0  0.0  100000000.0  100000000.0   \n",
       " 47              100000000.0    100000000.0  0.0  100000000.0  100000000.0   \n",
       " 48              100000000.0    100000000.0  0.0  100000000.0  100000000.0   \n",
       " 49              100000000.0    100000000.0  0.0  100000000.0  100000000.0   \n",
       " 50              100000000.0    100000000.0  0.0  100000000.0  100000000.0   \n",
       " 51              100000000.0    100000000.0  0.0  100000000.0  100000000.0   \n",
       " 52              100000000.0    100000000.0  0.0  100000000.0  100000000.0   \n",
       " 53              100000000.0    100000000.0  0.0  100000000.0  100000000.0   \n",
       " 54              100000000.0    100000000.0  0.0  100000000.0  100000000.0   \n",
       " 55              100000000.0    100000000.0  0.0  100000000.0  100000000.0   \n",
       " 56              100000000.0    100000000.0  0.0  100000000.0  100000000.0   \n",
       " 57              100000000.0    100000000.0  0.0  100000000.0  100000000.0   \n",
       " 58              100000000.0    100000000.0  0.0  100000000.0  100000000.0   \n",
       " 59              100000000.0    100000000.0  0.0  100000000.0  100000000.0   \n",
       " \n",
       "                 month  \n",
       " iteration_time         \n",
       " 0                   0  \n",
       " 1                   1  \n",
       " 2                   2  \n",
       " 3                   3  \n",
       " 4                   4  \n",
       " 5                   5  \n",
       " 6                   6  \n",
       " 7                   7  \n",
       " 8                   8  \n",
       " 9                   9  \n",
       " 10                 10  \n",
       " 11                 11  \n",
       " 12                 12  \n",
       " 13                 13  \n",
       " 14                 14  \n",
       " 15                 15  \n",
       " 16                 16  \n",
       " 17                 17  \n",
       " 18                 18  \n",
       " 19                 19  \n",
       " 20                 20  \n",
       " 21                 21  \n",
       " 22                 22  \n",
       " 23                 23  \n",
       " 24                 24  \n",
       " 25                 25  \n",
       " 26                 26  \n",
       " 27                 27  \n",
       " 28                 28  \n",
       " 29                 29  \n",
       " 30                 30  \n",
       " 31                 31  \n",
       " 32                 32  \n",
       " 33                 33  \n",
       " 34                 34  \n",
       " 35                 35  \n",
       " 36                 36  \n",
       " 37                 37  \n",
       " 38                 38  \n",
       " 39                 39  \n",
       " 40                 40  \n",
       " 41                 41  \n",
       " 42                 42  \n",
       " 43                 43  \n",
       " 44                 44  \n",
       " 45                 45  \n",
       " 46                 46  \n",
       " 47                 47  \n",
       " 48                 48  \n",
       " 49                 49  \n",
       " 50                 50  \n",
       " 51                 51  \n",
       " 52                 52  \n",
       " 53                 53  \n",
       " 54                 54  \n",
       " 55                 55  \n",
       " 56                 56  \n",
       " 57                 57  \n",
       " 58                 58  \n",
       " 59                 59  )"
      ]
     },
     "execution_count": 9,
     "metadata": {},
     "output_type": "execute_result"
    }
   ],
   "source": [
    "meta.get_timeseries('supply')"
   ]
  },
  {
   "cell_type": "markdown",
   "id": "d5e8b746",
   "metadata": {},
   "source": [
    "# With increasing user growth\n",
    "\n",
    "Now let's try to use usergrowth_spaced class to create a user base that is growing.\n",
    "\n",
    "That class is using functions from utils.helpers and numpy in order to simulate smooth user growth. Let's see what this looks like below. The class requires you to pre-specify the initial and final number of users, and use one out of three functions:\n",
    "\n",
    "1. log_saturated_space: This is a function that creates a logarithmic growth, that abides by a saturation effect.\n",
    "2. np.linspace,np.logspace,np.geomspace: these are numpy functions for linear, logarithmic and geometric growth.\n",
    "\n",
    "In the example below, we will use the log_saturated_space. Given than that we have only one pool, and that the transaction size is constant (total amount of transactions is simply users * averagetransaction) , then we see that the value of the token appreciates in the same way as the user base grows. Again, this is a very basic example, which would be unlikely to take place in the real world, but is useful for demonstration purposes."
   ]
  },
  {
   "cell_type": "code",
   "execution_count": 10,
   "id": "8503cf91",
   "metadata": {},
   "outputs": [
    {
     "data": {
      "text/plain": [
       "[<matplotlib.lines.Line2D at 0x7fe7884ee220>]"
      ]
     },
     "execution_count": 10,
     "metadata": {},
     "output_type": "execute_result"
    },
    {
     "data": {
      "image/png": "[encoded data removed]",
      "text/plain": [
       "<Figure size 640x480 with 1 Axes>"
      ]
     },
     "metadata": {},
     "output_type": "display_data"
    }
   ],
   "source": [
    "usm_fiat=UserGrowth_Spaced(100,54000,ITERATIONS,log_saturated_space)\n",
    "\n",
    "\n",
    "ap_fiat=AgentPool_Basic(users_controller=usm_fiat,transactions_controller=1000,currency='$')\n",
    "plt.plot(usm_fiat.get_users_store())"
   ]
  },
  {
   "cell_type": "markdown",
   "id": "96bea5b7",
   "metadata": {},
   "source": [
    "Note that you can also access variables using brackets. However, '_num_users_store' is a private variable, so direct acccess is discouraged."
   ]
  },
  {
   "cell_type": "code",
   "execution_count": 11,
   "id": "2b6d9e7e",
   "metadata": {},
   "outputs": [
    {
     "name": "stdout",
     "output_type": "stream",
     "text": [
      "0\n",
      "[22864 34362 37553 39479 40863 41945 42832 43585 44238 44815 45333 45801\n",
      " 46229 46623 46988 47328 47646 47945 48227 48494 48747 48988 49218 49437\n",
      " 49648 49849 50043 50230 50410 50583 50751 50913 51070 51223 51370 51514\n",
      " 51653 51789 51921 52049 52175 52297 52416 52533 52647 52758 52867 52973\n",
      " 53078 53180 53280 53378 53474 53569 53661 53752 53841 53929 54015 54100]\n"
     ]
    }
   ],
   "source": [
    "print(ap_fiat['num_users'])\n",
    "print(usm_fiat['_num_users_store'])"
   ]
  },
  {
   "cell_type": "code",
   "execution_count": 12,
   "id": "1999bf2a",
   "metadata": {},
   "outputs": [
    {
     "name": "stderr",
     "output_type": "stream",
     "text": [
      "100%|██████████████████████████████████████████| 50/50 [00:00<00:00, 440.89it/s]\n"
     ]
    },
    {
     "data": {
      "image/png": "[encoded data removed]",
      "text/plain": [
       "<Figure size 640x480 with 1 Axes>"
      ]
     },
     "metadata": {},
     "output_type": "display_data"
    }
   ],
   "source": [
    "te=TokenEconomy_Basic(holding_time=HOLDING_TIME,supply=SUPPLY,token='tokenA',initial_price=INITIAL_PRICE,supply_is_added=False)\n",
    "te.add_agent_pools([ap_fiat])\n",
    "meta=TokenMetaSimulator(te)\n",
    "meta.execute(iterations=ITERATIONS,repetitions=50)\n",
    "reps=meta.get_data()\n",
    "plot,data=meta.get_timeseries('tokenA_price')\n",
    "plot"
   ]
  },
  {
   "cell_type": "markdown",
   "id": "1f6674f7",
   "metadata": {},
   "source": [
    "UserGrowth_Spaced as an argument called use_difference. When this is set to True, the UserGrowth calculates the number of users in a different way. \n",
    "\n",
    "In the default version (use_difference=False), the number of users added at each step of the token economy, grows in a logarithmic fashion, in the above example.\n",
    "\n",
    "If we set use_difference=True, then the actual growth follows the logarithmic pattern, but not the total number of users. This is easier to demonstrate using plots."
   ]
  },
  {
   "cell_type": "code",
   "execution_count": 13,
   "id": "cf5872ff",
   "metadata": {},
   "outputs": [
    {
     "data": {
      "text/plain": [
       "[<matplotlib.lines.Line2D at 0x7fe799138370>]"
      ]
     },
     "execution_count": 13,
     "metadata": {},
     "output_type": "execute_result"
    },
    {
     "data": {
      "image/png": "[encoded data removed]",
      "text/plain": [
       "<Figure size 640x480 with 1 Axes>"
      ]
     },
     "metadata": {},
     "output_type": "display_data"
    }
   ],
   "source": [
    "usm_fiat=UserGrowth_Spaced(100,54000,ITERATIONS,log_saturated_space,use_difference=True)\n",
    "plt.plot(usm_fiat.get_users_store())"
   ]
  },
  {
   "cell_type": "markdown",
   "id": "e8db4e37",
   "metadata": {},
   "source": [
    "We see that the user growth spikes, and then slows down. This is reflected as smooth, nearly linear user growth."
   ]
  },
  {
   "cell_type": "code",
   "execution_count": 14,
   "id": "a6d629e7",
   "metadata": {},
   "outputs": [
    {
     "data": {
      "text/plain": [
       "<AxesSubplot:>"
      ]
     },
     "execution_count": 14,
     "metadata": {},
     "output_type": "execute_result"
    },
    {
     "data": {
      "image/png": "[encoded data removed]",
      "text/plain": [
       "<Figure size 640x480 with 1 Axes>"
      ]
     },
     "metadata": {},
     "output_type": "display_data"
    }
   ],
   "source": [
    "te=TokenEconomy_Basic(holding_time=HOLDING_TIME,supply=SUPPLY,token='tokenA',initial_price=INITIAL_PRICE,supply_is_added=False)\n",
    "te.add_agent_pools([ap_fiat])\n",
    "\n",
    "for i in range(ITERATIONS):\n",
    "    te.execute()\n",
    "    \n",
    "report=te.get_data()\n",
    "report['num_users'].plot()"
   ]
  },
  {
   "cell_type": "markdown",
   "id": "3eb5822a",
   "metadata": {},
   "source": [
    "# User growth and stochastic transactions\n",
    "\n",
    "Now let's try to also include a stochastic component in transactions. For this purpose we will use the TransactionManagement_Stochastic class. This is one of the more complicate classes in TokenLab. The class works as follows:\n",
    "\n",
    "1. You can define the activity_probs which determine the % of users which are active at any given time. This % is sampled from a binomial distribution.\n",
    "\n",
    "2. You can define a distribution for the average value of the transaction per iteration. This can be any distribution with location and scale parameters from scipy.stats. By default, the distribution is the Gaussian. In this example we've set the average value to be 1000, and the standard deviation to be 200.\n",
    "\n",
    "3. You can define the number of transactions per active user. By default, this is done through a Poisson distribution. In this example, we define the parameter mu=1.\n",
    "\n",
    "You will see that now the price fluctuates more wildly as transactions are stochastic. However, because the activity probabilities rise over time (users become more active), the expected average price per month follows a rising trend."
   ]
  },
  {
   "cell_type": "code",
   "execution_count": 15,
   "id": "3c08a027",
   "metadata": {},
   "outputs": [],
   "source": [
    "usm_fiat=UserGrowth_Spaced(100,54000,ITERATIONS,log_saturated_space)\n",
    "tsm_fiat=TransactionManagement_Stochastic(activity_probs=np.linspace(0.25,1,ITERATIONS),\n",
    "                                            value_dist_parameters={'loc':1000,'scale':200},\n",
    "                                           transactions_dist_parameters={'mu':1})\n",
    "\n",
    "ap_fiat=AgentPool_Basic(users_controller=usm_fiat,transactions_controller=tsm_fiat,currency='$')"
   ]
  },
  {
   "cell_type": "code",
   "execution_count": 16,
   "id": "2f28123f",
   "metadata": {},
   "outputs": [
    {
     "name": "stderr",
     "output_type": "stream",
     "text": [
      "100%|███████████████████████████████████████████| 50/50 [00:01<00:00, 25.31it/s]\n"
     ]
    },
    {
     "data": {
      "image/png": "[encoded data removed]",
      "text/plain": [
       "<Figure size 640x480 with 1 Axes>"
      ]
     },
     "metadata": {},
     "output_type": "display_data"
    }
   ],
   "source": [
    "te=TokenEconomy_Basic(holding_time=HOLDING_TIME,supply=SUPPLY,token='tokenA',initial_price=INITIAL_PRICE,supply_is_added=False)\n",
    "te.add_agent_pools([ap_fiat])\n",
    "meta=TokenMetaSimulator(te)\n",
    "meta.execute(iterations=ITERATIONS,repetitions=50)\n",
    "reps=meta.get_data()\n",
    "plot,data=meta.get_timeseries('tokenA_price')\n",
    "plot"
   ]
  },
  {
   "cell_type": "markdown",
   "id": "35ebad43",
   "metadata": {},
   "source": [
    "Another useful feature of the meta-simulator is the ability to generate reports with statistics of the core variables"
   ]
  },
  {
   "cell_type": "code",
   "execution_count": 17,
   "id": "9db1b0bb",
   "metadata": {},
   "outputs": [
    {
     "data": {
      "text/html": [
       "<div>\n",
       "<style scoped>\n",
       "    .dataframe tbody tr th:only-of-type {\n",
       "        vertical-align: middle;\n",
       "    }\n",
       "\n",
       "    .dataframe tbody tr th {\n",
       "        vertical-align: top;\n",
       "    }\n",
       "\n",
       "    .dataframe thead th {\n",
       "        text-align: right;\n",
       "    }\n",
       "</style>\n",
       "<table border=\"1\" class=\"dataframe\">\n",
       "  <thead>\n",
       "    <tr style=\"text-align: right;\">\n",
       "      <th></th>\n",
       "      <th>mean</th>\n",
       "      <th>std</th>\n",
       "      <th>amax</th>\n",
       "      <th>amin</th>\n",
       "      <th>_quantile_10</th>\n",
       "      <th>_quantile_90</th>\n",
       "    </tr>\n",
       "  </thead>\n",
       "  <tbody>\n",
       "    <tr>\n",
       "      <th>tokenA_price</th>\n",
       "      <td>2.665972e-01</td>\n",
       "      <td>0.002619</td>\n",
       "      <td>2.707962e-01</td>\n",
       "      <td>2.573803e-01</td>\n",
       "      <td>2.637752e-01</td>\n",
       "      <td>2.694887e-01</td>\n",
       "    </tr>\n",
       "    <tr>\n",
       "      <th>transactions_$</th>\n",
       "      <td>3.165337e+07</td>\n",
       "      <td>316407.976462</td>\n",
       "      <td>3.220213e+07</td>\n",
       "      <td>3.053547e+07</td>\n",
       "      <td>3.130745e+07</td>\n",
       "      <td>3.199482e+07</td>\n",
       "    </tr>\n",
       "    <tr>\n",
       "      <th>num_transactions</th>\n",
       "      <td>9.998553e-01</td>\n",
       "      <td>0.004384</td>\n",
       "      <td>1.007967e+00</td>\n",
       "      <td>9.867000e-01</td>\n",
       "      <td>9.943183e-01</td>\n",
       "      <td>1.004243e+00</td>\n",
       "    </tr>\n",
       "    <tr>\n",
       "      <th>num_users</th>\n",
       "      <td>1.414230e+06</td>\n",
       "      <td>0.000000</td>\n",
       "      <td>1.414230e+06</td>\n",
       "      <td>1.414230e+06</td>\n",
       "      <td>1.414230e+06</td>\n",
       "      <td>1.414230e+06</td>\n",
       "    </tr>\n",
       "    <tr>\n",
       "      <th>iteration</th>\n",
       "      <td>3.050000e+01</td>\n",
       "      <td>0.000000</td>\n",
       "      <td>3.050000e+01</td>\n",
       "      <td>3.050000e+01</td>\n",
       "      <td>3.050000e+01</td>\n",
       "      <td>3.050000e+01</td>\n",
       "    </tr>\n",
       "    <tr>\n",
       "      <th>holding_time</th>\n",
       "      <td>1.100000e+00</td>\n",
       "      <td>0.000000</td>\n",
       "      <td>1.100000e+00</td>\n",
       "      <td>1.100000e+00</td>\n",
       "      <td>1.100000e+00</td>\n",
       "      <td>1.100000e+00</td>\n",
       "    </tr>\n",
       "    <tr>\n",
       "      <th>effective_holding_time</th>\n",
       "      <td>8.463572e-01</td>\n",
       "      <td>0.001396</td>\n",
       "      <td>8.489124e-01</td>\n",
       "      <td>8.428471e-01</td>\n",
       "      <td>8.445439e-01</td>\n",
       "      <td>8.481063e-01</td>\n",
       "    </tr>\n",
       "    <tr>\n",
       "      <th>supply</th>\n",
       "      <td>1.000000e+08</td>\n",
       "      <td>0.000000</td>\n",
       "      <td>1.000000e+08</td>\n",
       "      <td>1.000000e+08</td>\n",
       "      <td>1.000000e+08</td>\n",
       "      <td>1.000000e+08</td>\n",
       "    </tr>\n",
       "    <tr>\n",
       "      <th>transactions_tokenA</th>\n",
       "      <td>1.227231e+08</td>\n",
       "      <td>175960.898074</td>\n",
       "      <td>1.231499e+08</td>\n",
       "      <td>1.223815e+08</td>\n",
       "      <td>1.225364e+08</td>\n",
       "      <td>1.229630e+08</td>\n",
       "    </tr>\n",
       "    <tr>\n",
       "      <th>iteration_time</th>\n",
       "      <td>2.950000e+01</td>\n",
       "      <td>0.000000</td>\n",
       "      <td>2.950000e+01</td>\n",
       "      <td>2.950000e+01</td>\n",
       "      <td>2.950000e+01</td>\n",
       "      <td>2.950000e+01</td>\n",
       "    </tr>\n",
       "  </tbody>\n",
       "</table>\n",
       "</div>"
      ],
      "text/plain": [
       "                                mean            std          amax  \\\n",
       "tokenA_price            2.665972e-01       0.002619  2.707962e-01   \n",
       "transactions_$          3.165337e+07  316407.976462  3.220213e+07   \n",
       "num_transactions        9.998553e-01       0.004384  1.007967e+00   \n",
       "num_users               1.414230e+06       0.000000  1.414230e+06   \n",
       "iteration               3.050000e+01       0.000000  3.050000e+01   \n",
       "holding_time            1.100000e+00       0.000000  1.100000e+00   \n",
       "effective_holding_time  8.463572e-01       0.001396  8.489124e-01   \n",
       "supply                  1.000000e+08       0.000000  1.000000e+08   \n",
       "transactions_tokenA     1.227231e+08  175960.898074  1.231499e+08   \n",
       "iteration_time          2.950000e+01       0.000000  2.950000e+01   \n",
       "\n",
       "                                amin  _quantile_10  _quantile_90  \n",
       "tokenA_price            2.573803e-01  2.637752e-01  2.694887e-01  \n",
       "transactions_$          3.053547e+07  3.130745e+07  3.199482e+07  \n",
       "num_transactions        9.867000e-01  9.943183e-01  1.004243e+00  \n",
       "num_users               1.414230e+06  1.414230e+06  1.414230e+06  \n",
       "iteration               3.050000e+01  3.050000e+01  3.050000e+01  \n",
       "holding_time            1.100000e+00  1.100000e+00  1.100000e+00  \n",
       "effective_holding_time  8.428471e-01  8.445439e-01  8.481063e-01  \n",
       "supply                  1.000000e+08  1.000000e+08  1.000000e+08  \n",
       "transactions_tokenA     1.223815e+08  1.225364e+08  1.229630e+08  \n",
       "iteration_time          2.950000e+01  2.950000e+01  2.950000e+01  "
      ]
     },
     "execution_count": 17,
     "metadata": {},
     "output_type": "execute_result"
    }
   ],
   "source": [
    "meta.get_report()"
   ]
  },
  {
   "cell_type": "markdown",
   "id": "e827a5c2",
   "metadata": {},
   "source": [
    "# Stochastic holding time\n",
    "\n",
    "Now, let's experiment with changing the holding time. The HoldingTime_Stochastic class is using a standard normal distribution to simulate different holding times."
   ]
  },
  {
   "cell_type": "code",
   "execution_count": 18,
   "id": "a043853e",
   "metadata": {},
   "outputs": [
    {
     "name": "stderr",
     "output_type": "stream",
     "text": [
      "100%|███████████████████████████████████████████| 50/50 [00:03<00:00, 16.33it/s]\n"
     ]
    },
    {
     "data": {
      "image/png": "[encoded data removed]",
      "text/plain": [
       "<Figure size 640x480 with 1 Axes>"
      ]
     },
     "metadata": {},
     "output_type": "display_data"
    }
   ],
   "source": [
    "te=TokenEconomy_Basic(holding_time=HoldingTime_Stochastic(),supply=SUPPLY,token='tokenA',\n",
    "                      initial_price=INITIAL_PRICE,supply_is_added=False)\n",
    "te.add_agent_pools([ap_fiat])\n",
    "meta=TokenMetaSimulator(te)\n",
    "meta.execute(iterations=ITERATIONS,repetitions=50)\n",
    "reps=meta.get_data()\n",
    "plot,data=meta.get_timeseries('tokenA_price')\n",
    "plot"
   ]
  },
  {
   "cell_type": "markdown",
   "id": "2581ac62",
   "metadata": {},
   "source": [
    "In the 'reps' table that contains the simulation data (seen below), you will notice a column called 'effective_holding_rate'. The simulation is using the equation of exchange for pricing, and the price is determined exogenously. \n",
    "\n",
    "The effective_holding_rate is what the holding rate would be, if the equation of exchanged had been used to calculate it at a given iteration in a feedback loop type of fashion. \n",
    "\n",
    "Then, you might ask, why do we need to use an exogenously defined holding rate?\n",
    "\n",
    "First of all, using the effective holding rate is always an option. However, the model can become unstable. Let's not forget that the equation of exchange itself in this context is making simplifying assumptions. Therefore, it might make more sense to give a plausible range of values and try out different simulations to understand the sensitivity of the model.\n",
    "\n",
    "In the histograms below you see the difference between the stochastic holding time and the effective. We see that the two histograms have some similarities, which is good. It means that the assumptions around user growth, price and holding time are not off."
   ]
  },
  {
   "cell_type": "code",
   "execution_count": 19,
   "id": "364bc1d2",
   "metadata": {},
   "outputs": [
    {
     "data": {
      "text/html": [
       "<div>\n",
       "<style scoped>\n",
       "    .dataframe tbody tr th:only-of-type {\n",
       "        vertical-align: middle;\n",
       "    }\n",
       "\n",
       "    .dataframe tbody tr th {\n",
       "        vertical-align: top;\n",
       "    }\n",
       "\n",
       "    .dataframe thead th {\n",
       "        text-align: right;\n",
       "    }\n",
       "</style>\n",
       "<table border=\"1\" class=\"dataframe\">\n",
       "  <thead>\n",
       "    <tr style=\"text-align: right;\">\n",
       "      <th></th>\n",
       "      <th>tokenA_price</th>\n",
       "      <th>transactions_$</th>\n",
       "      <th>num_transactions</th>\n",
       "      <th>num_users</th>\n",
       "      <th>iteration</th>\n",
       "      <th>holding_time</th>\n",
       "      <th>effective_holding_time</th>\n",
       "      <th>supply</th>\n",
       "      <th>transactions_tokenA</th>\n",
       "      <th>repetition_run</th>\n",
       "      <th>iteration_time</th>\n",
       "    </tr>\n",
       "  </thead>\n",
       "  <tbody>\n",
       "    <tr>\n",
       "      <th>0</th>\n",
       "      <td>0.098347</td>\n",
       "      <td>5.378975e+06</td>\n",
       "      <td>0.965</td>\n",
       "      <td>22864</td>\n",
       "      <td>1</td>\n",
       "      <td>2.246277</td>\n",
       "      <td>1.828361</td>\n",
       "      <td>100000000</td>\n",
       "      <td>5.378975e+07</td>\n",
       "      <td>0</td>\n",
       "      <td>0</td>\n",
       "    </tr>\n",
       "    <tr>\n",
       "      <th>1</th>\n",
       "      <td>0.192535</td>\n",
       "      <td>1.033831e+07</td>\n",
       "      <td>1.065</td>\n",
       "      <td>57226</td>\n",
       "      <td>2</td>\n",
       "      <td>5.540962</td>\n",
       "      <td>1.862348</td>\n",
       "      <td>100000000</td>\n",
       "      <td>1.051206e+08</td>\n",
       "      <td>0</td>\n",
       "      <td>1</td>\n",
       "    </tr>\n",
       "    <tr>\n",
       "      <th>2</th>\n",
       "      <td>0.140788</td>\n",
       "      <td>9.047385e+06</td>\n",
       "      <td>0.941</td>\n",
       "      <td>94779</td>\n",
       "      <td>3</td>\n",
       "      <td>0.268580</td>\n",
       "      <td>1.556116</td>\n",
       "      <td>100000000</td>\n",
       "      <td>4.699081e+07</td>\n",
       "      <td>0</td>\n",
       "      <td>2</td>\n",
       "    </tr>\n",
       "    <tr>\n",
       "      <th>3</th>\n",
       "      <td>0.115533</td>\n",
       "      <td>1.078828e+07</td>\n",
       "      <td>0.965</td>\n",
       "      <td>134258</td>\n",
       "      <td>4</td>\n",
       "      <td>0.642676</td>\n",
       "      <td>1.070911</td>\n",
       "      <td>100000000</td>\n",
       "      <td>7.662795e+07</td>\n",
       "      <td>0</td>\n",
       "      <td>3</td>\n",
       "    </tr>\n",
       "    <tr>\n",
       "      <th>4</th>\n",
       "      <td>0.150023</td>\n",
       "      <td>1.195226e+07</td>\n",
       "      <td>0.983</td>\n",
       "      <td>175121</td>\n",
       "      <td>5</td>\n",
       "      <td>2.481241</td>\n",
       "      <td>1.255187</td>\n",
       "      <td>100000000</td>\n",
       "      <td>1.034533e+08</td>\n",
       "      <td>0</td>\n",
       "      <td>4</td>\n",
       "    </tr>\n",
       "    <tr>\n",
       "      <th>...</th>\n",
       "      <td>...</td>\n",
       "      <td>...</td>\n",
       "      <td>...</td>\n",
       "      <td>...</td>\n",
       "      <td>...</td>\n",
       "      <td>...</td>\n",
       "      <td>...</td>\n",
       "      <td>...</td>\n",
       "      <td>...</td>\n",
       "      <td>...</td>\n",
       "      <td>...</td>\n",
       "    </tr>\n",
       "    <tr>\n",
       "      <th>55</th>\n",
       "      <td>0.501078</td>\n",
       "      <td>4.853338e+07</td>\n",
       "      <td>0.974</td>\n",
       "      <td>2722594</td>\n",
       "      <td>56</td>\n",
       "      <td>2.469807</td>\n",
       "      <td>1.032440</td>\n",
       "      <td>100000000</td>\n",
       "      <td>1.533807e+08</td>\n",
       "      <td>49</td>\n",
       "      <td>55</td>\n",
       "    </tr>\n",
       "    <tr>\n",
       "      <th>56</th>\n",
       "      <td>0.412703</td>\n",
       "      <td>5.467203e+07</td>\n",
       "      <td>1.032</td>\n",
       "      <td>2776435</td>\n",
       "      <td>57</td>\n",
       "      <td>0.460315</td>\n",
       "      <td>0.754870</td>\n",
       "      <td>100000000</td>\n",
       "      <td>1.091088e+08</td>\n",
       "      <td>49</td>\n",
       "      <td>56</td>\n",
       "    </tr>\n",
       "    <tr>\n",
       "      <th>57</th>\n",
       "      <td>0.315244</td>\n",
       "      <td>5.509689e+07</td>\n",
       "      <td>1.022</td>\n",
       "      <td>2830364</td>\n",
       "      <td>58</td>\n",
       "      <td>0.192875</td>\n",
       "      <td>0.572163</td>\n",
       "      <td>100000000</td>\n",
       "      <td>1.335027e+08</td>\n",
       "      <td>49</td>\n",
       "      <td>57</td>\n",
       "    </tr>\n",
       "    <tr>\n",
       "      <th>58</th>\n",
       "      <td>0.438310</td>\n",
       "      <td>5.596349e+07</td>\n",
       "      <td>1.023</td>\n",
       "      <td>2884379</td>\n",
       "      <td>59</td>\n",
       "      <td>1.630835</td>\n",
       "      <td>0.783207</td>\n",
       "      <td>100000000</td>\n",
       "      <td>1.775242e+08</td>\n",
       "      <td>49</td>\n",
       "      <td>58</td>\n",
       "    </tr>\n",
       "    <tr>\n",
       "      <th>59</th>\n",
       "      <td>0.531550</td>\n",
       "      <td>5.593442e+07</td>\n",
       "      <td>1.020</td>\n",
       "      <td>2938479</td>\n",
       "      <td>60</td>\n",
       "      <td>1.687410</td>\n",
       "      <td>0.950309</td>\n",
       "      <td>100000000</td>\n",
       "      <td>1.276138e+08</td>\n",
       "      <td>49</td>\n",
       "      <td>59</td>\n",
       "    </tr>\n",
       "  </tbody>\n",
       "</table>\n",
       "<p>3000 rows × 11 columns</p>\n",
       "</div>"
      ],
      "text/plain": [
       "    tokenA_price  transactions_$  num_transactions  num_users  iteration  \\\n",
       "0       0.098347    5.378975e+06             0.965      22864          1   \n",
       "1       0.192535    1.033831e+07             1.065      57226          2   \n",
       "2       0.140788    9.047385e+06             0.941      94779          3   \n",
       "3       0.115533    1.078828e+07             0.965     134258          4   \n",
       "4       0.150023    1.195226e+07             0.983     175121          5   \n",
       "..           ...             ...               ...        ...        ...   \n",
       "55      0.501078    4.853338e+07             0.974    2722594         56   \n",
       "56      0.412703    5.467203e+07             1.032    2776435         57   \n",
       "57      0.315244    5.509689e+07             1.022    2830364         58   \n",
       "58      0.438310    5.596349e+07             1.023    2884379         59   \n",
       "59      0.531550    5.593442e+07             1.020    2938479         60   \n",
       "\n",
       "    holding_time  effective_holding_time     supply  transactions_tokenA  \\\n",
       "0       2.246277                1.828361  100000000         5.378975e+07   \n",
       "1       5.540962                1.862348  100000000         1.051206e+08   \n",
       "2       0.268580                1.556116  100000000         4.699081e+07   \n",
       "3       0.642676                1.070911  100000000         7.662795e+07   \n",
       "4       2.481241                1.255187  100000000         1.034533e+08   \n",
       "..           ...                     ...        ...                  ...   \n",
       "55      2.469807                1.032440  100000000         1.533807e+08   \n",
       "56      0.460315                0.754870  100000000         1.091088e+08   \n",
       "57      0.192875                0.572163  100000000         1.335027e+08   \n",
       "58      1.630835                0.783207  100000000         1.775242e+08   \n",
       "59      1.687410                0.950309  100000000         1.276138e+08   \n",
       "\n",
       "    repetition_run  iteration_time  \n",
       "0                0               0  \n",
       "1                0               1  \n",
       "2                0               2  \n",
       "3                0               3  \n",
       "4                0               4  \n",
       "..             ...             ...  \n",
       "55              49              55  \n",
       "56              49              56  \n",
       "57              49              57  \n",
       "58              49              58  \n",
       "59              49              59  \n",
       "\n",
       "[3000 rows x 11 columns]"
      ]
     },
     "execution_count": 19,
     "metadata": {},
     "output_type": "execute_result"
    }
   ],
   "source": [
    "reps"
   ]
  },
  {
   "cell_type": "code",
   "execution_count": 20,
   "id": "41375d21",
   "metadata": {},
   "outputs": [
    {
     "data": {
      "text/plain": [
       "<AxesSubplot:>"
      ]
     },
     "execution_count": 20,
     "metadata": {},
     "output_type": "execute_result"
    },
    {
     "data": {
      "image/png": "[encoded data removed]",
      "text/plain": [
       "<Figure size 640x480 with 1 Axes>"
      ]
     },
     "metadata": {},
     "output_type": "display_data"
    }
   ],
   "source": [
    "reps.effective_holding_time.hist()"
   ]
  },
  {
   "cell_type": "code",
   "execution_count": 21,
   "id": "3e9e3014",
   "metadata": {},
   "outputs": [
    {
     "data": {
      "text/plain": [
       "<AxesSubplot:>"
      ]
     },
     "execution_count": 21,
     "metadata": {},
     "output_type": "execute_result"
    },
    {
     "data": {
      "image/png": "[encoded data removed]",
      "text/plain": [
       "<Figure size 640x480 with 1 Axes>"
      ]
     },
     "metadata": {},
     "output_type": "display_data"
    }
   ],
   "source": [
    "reps.holding_time.hist()"
   ]
  },
  {
   "cell_type": "markdown",
   "id": "a4dcafb6",
   "metadata": {},
   "source": [
    "# Price plus noise\n",
    "\n",
    "There are different pricing functions that we can use. Let's try replacing the normal pricing function, with one that adds Gaussian noise and let's see what happens."
   ]
  },
  {
   "cell_type": "code",
   "execution_count": 22,
   "id": "272b6156",
   "metadata": {},
   "outputs": [
    {
     "name": "stderr",
     "output_type": "stream",
     "text": [
      "100%|███████████████████████████████████████████| 50/50 [00:03<00:00, 13.87it/s]\n"
     ]
    },
    {
     "data": {
      "image/png": "[encoded data removed]",
      "text/plain": [
       "<Figure size 640x480 with 1 Axes>"
      ]
     },
     "metadata": {},
     "output_type": "display_data"
    },
    {
     "data": {
      "text/html": [
       "<div>\n",
       "<style scoped>\n",
       "    .dataframe tbody tr th:only-of-type {\n",
       "        vertical-align: middle;\n",
       "    }\n",
       "\n",
       "    .dataframe tbody tr th {\n",
       "        vertical-align: top;\n",
       "    }\n",
       "\n",
       "    .dataframe thead th {\n",
       "        text-align: right;\n",
       "    }\n",
       "</style>\n",
       "<table border=\"1\" class=\"dataframe\">\n",
       "  <thead>\n",
       "    <tr style=\"text-align: right;\">\n",
       "      <th></th>\n",
       "      <th>tokenA_price</th>\n",
       "      <th>transactions_$</th>\n",
       "      <th>num_transactions</th>\n",
       "      <th>num_users</th>\n",
       "      <th>iteration</th>\n",
       "      <th>holding_time</th>\n",
       "      <th>effective_holding_time</th>\n",
       "      <th>supply</th>\n",
       "      <th>transactions_tokenA</th>\n",
       "      <th>repetition_run</th>\n",
       "      <th>iteration_time</th>\n",
       "    </tr>\n",
       "  </thead>\n",
       "  <tbody>\n",
       "    <tr>\n",
       "      <th>0</th>\n",
       "      <td>0.071916</td>\n",
       "      <td>5.593899e+06</td>\n",
       "      <td>0.983</td>\n",
       "      <td>22864</td>\n",
       "      <td>1</td>\n",
       "      <td>0.137878</td>\n",
       "      <td>1.285607</td>\n",
       "      <td>100000000</td>\n",
       "      <td>5.593899e+07</td>\n",
       "      <td>0</td>\n",
       "      <td>0</td>\n",
       "    </tr>\n",
       "    <tr>\n",
       "      <th>1</th>\n",
       "      <td>1.602354</td>\n",
       "      <td>1.003630e+07</td>\n",
       "      <td>1.048</td>\n",
       "      <td>57226</td>\n",
       "      <td>2</td>\n",
       "      <td>2.621446</td>\n",
       "      <td>15.965586</td>\n",
       "      <td>100000000</td>\n",
       "      <td>1.395567e+08</td>\n",
       "      <td>0</td>\n",
       "      <td>1</td>\n",
       "    </tr>\n",
       "    <tr>\n",
       "      <th>2</th>\n",
       "      <td>1.317357</td>\n",
       "      <td>9.891619e+06</td>\n",
       "      <td>0.978</td>\n",
       "      <td>94779</td>\n",
       "      <td>3</td>\n",
       "      <td>0.174013</td>\n",
       "      <td>13.317913</td>\n",
       "      <td>100000000</td>\n",
       "      <td>6.173182e+06</td>\n",
       "      <td>0</td>\n",
       "      <td>2</td>\n",
       "    </tr>\n",
       "    <tr>\n",
       "      <th>3</th>\n",
       "      <td>0.934179</td>\n",
       "      <td>1.101282e+07</td>\n",
       "      <td>0.998</td>\n",
       "      <td>134258</td>\n",
       "      <td>4</td>\n",
       "      <td>0.443507</td>\n",
       "      <td>8.482643</td>\n",
       "      <td>100000000</td>\n",
       "      <td>8.359785e+06</td>\n",
       "      <td>0</td>\n",
       "      <td>3</td>\n",
       "    </tr>\n",
       "    <tr>\n",
       "      <th>4</th>\n",
       "      <td>0.369628</td>\n",
       "      <td>1.257519e+07</td>\n",
       "      <td>1.002</td>\n",
       "      <td>175121</td>\n",
       "      <td>5</td>\n",
       "      <td>0.920734</td>\n",
       "      <td>2.939344</td>\n",
       "      <td>100000000</td>\n",
       "      <td>1.346123e+07</td>\n",
       "      <td>0</td>\n",
       "      <td>4</td>\n",
       "    </tr>\n",
       "    <tr>\n",
       "      <th>...</th>\n",
       "      <td>...</td>\n",
       "      <td>...</td>\n",
       "      <td>...</td>\n",
       "      <td>...</td>\n",
       "      <td>...</td>\n",
       "      <td>...</td>\n",
       "      <td>...</td>\n",
       "      <td>...</td>\n",
       "      <td>...</td>\n",
       "      <td>...</td>\n",
       "      <td>...</td>\n",
       "    </tr>\n",
       "    <tr>\n",
       "      <th>55</th>\n",
       "      <td>3.237722</td>\n",
       "      <td>4.714890e+07</td>\n",
       "      <td>0.959</td>\n",
       "      <td>2722594</td>\n",
       "      <td>56</td>\n",
       "      <td>0.671300</td>\n",
       "      <td>6.867015</td>\n",
       "      <td>100000000</td>\n",
       "      <td>1.727613e+07</td>\n",
       "      <td>49</td>\n",
       "      <td>55</td>\n",
       "    </tr>\n",
       "    <tr>\n",
       "      <th>56</th>\n",
       "      <td>1.266558</td>\n",
       "      <td>5.690034e+07</td>\n",
       "      <td>1.053</td>\n",
       "      <td>2776435</td>\n",
       "      <td>57</td>\n",
       "      <td>0.709368</td>\n",
       "      <td>2.225924</td>\n",
       "      <td>100000000</td>\n",
       "      <td>1.757419e+07</td>\n",
       "      <td>49</td>\n",
       "      <td>56</td>\n",
       "    </tr>\n",
       "    <tr>\n",
       "      <th>57</th>\n",
       "      <td>0.290930</td>\n",
       "      <td>5.197361e+07</td>\n",
       "      <td>0.995</td>\n",
       "      <td>2830364</td>\n",
       "      <td>58</td>\n",
       "      <td>0.506792</td>\n",
       "      <td>0.559765</td>\n",
       "      <td>100000000</td>\n",
       "      <td>4.103531e+07</td>\n",
       "      <td>49</td>\n",
       "      <td>57</td>\n",
       "    </tr>\n",
       "    <tr>\n",
       "      <th>58</th>\n",
       "      <td>0.386546</td>\n",
       "      <td>5.559960e+07</td>\n",
       "      <td>1.020</td>\n",
       "      <td>2884379</td>\n",
       "      <td>59</td>\n",
       "      <td>1.369849</td>\n",
       "      <td>0.695232</td>\n",
       "      <td>100000000</td>\n",
       "      <td>1.911098e+08</td>\n",
       "      <td>49</td>\n",
       "      <td>58</td>\n",
       "    </tr>\n",
       "    <tr>\n",
       "      <th>59</th>\n",
       "      <td>0.495910</td>\n",
       "      <td>5.238774e+07</td>\n",
       "      <td>0.985</td>\n",
       "      <td>2938479</td>\n",
       "      <td>60</td>\n",
       "      <td>1.812434</td>\n",
       "      <td>0.946614</td>\n",
       "      <td>100000000</td>\n",
       "      <td>1.355277e+08</td>\n",
       "      <td>49</td>\n",
       "      <td>59</td>\n",
       "    </tr>\n",
       "  </tbody>\n",
       "</table>\n",
       "<p>3000 rows × 11 columns</p>\n",
       "</div>"
      ],
      "text/plain": [
       "    tokenA_price  transactions_$  num_transactions  num_users  iteration  \\\n",
       "0       0.071916    5.593899e+06             0.983      22864          1   \n",
       "1       1.602354    1.003630e+07             1.048      57226          2   \n",
       "2       1.317357    9.891619e+06             0.978      94779          3   \n",
       "3       0.934179    1.101282e+07             0.998     134258          4   \n",
       "4       0.369628    1.257519e+07             1.002     175121          5   \n",
       "..           ...             ...               ...        ...        ...   \n",
       "55      3.237722    4.714890e+07             0.959    2722594         56   \n",
       "56      1.266558    5.690034e+07             1.053    2776435         57   \n",
       "57      0.290930    5.197361e+07             0.995    2830364         58   \n",
       "58      0.386546    5.559960e+07             1.020    2884379         59   \n",
       "59      0.495910    5.238774e+07             0.985    2938479         60   \n",
       "\n",
       "    holding_time  effective_holding_time     supply  transactions_tokenA  \\\n",
       "0       0.137878                1.285607  100000000         5.593899e+07   \n",
       "1       2.621446               15.965586  100000000         1.395567e+08   \n",
       "2       0.174013               13.317913  100000000         6.173182e+06   \n",
       "3       0.443507                8.482643  100000000         8.359785e+06   \n",
       "4       0.920734                2.939344  100000000         1.346123e+07   \n",
       "..           ...                     ...        ...                  ...   \n",
       "55      0.671300                6.867015  100000000         1.727613e+07   \n",
       "56      0.709368                2.225924  100000000         1.757419e+07   \n",
       "57      0.506792                0.559765  100000000         4.103531e+07   \n",
       "58      1.369849                0.695232  100000000         1.911098e+08   \n",
       "59      1.812434                0.946614  100000000         1.355277e+08   \n",
       "\n",
       "    repetition_run  iteration_time  \n",
       "0                0               0  \n",
       "1                0               1  \n",
       "2                0               2  \n",
       "3                0               3  \n",
       "4                0               4  \n",
       "..             ...             ...  \n",
       "55              49              55  \n",
       "56              49              56  \n",
       "57              49              57  \n",
       "58              49              58  \n",
       "59              49              59  \n",
       "\n",
       "[3000 rows x 11 columns]"
      ]
     },
     "execution_count": 22,
     "metadata": {},
     "output_type": "execute_result"
    }
   ],
   "source": [
    "te=TokenEconomy_Basic(holding_time=HoldingTime_Stochastic(),supply=SUPPLY,\n",
    "                      price_function=PriceFunction_EOE,token='tokenA',supply_is_added=False,\n",
    "                      price_function_parameters={'noise_addon':AddOn_RandomNoise()},initial_price=INITIAL_PRICE)\n",
    "te.add_agent_pools([ap_fiat])\n",
    "meta=TokenMetaSimulator(te)\n",
    "meta.execute(iterations=ITERATIONS,repetitions=50)\n",
    "reps=meta.get_data()\n",
    "plot,data=meta.get_timeseries('tokenA_price')\n",
    "plot\n",
    "reps"
   ]
  },
  {
   "cell_type": "markdown",
   "id": "8ff92cdb",
   "metadata": {},
   "source": [
    "# Price plus noise plus adaptive variance\n",
    "\n",
    "This is a special pricing mechanism which induces randomness in the price, but the variance of the noise is proportional to the price. The idea behind this is similar to https://www.investopedia.com/terms/g/garch.asp and has also been observed in the cryptocurrency markets. For example, this holds true for Bitcoin. The higher the value of bitcoin, the higher the observed volatility."
   ]
  },
  {
   "cell_type": "code",
   "execution_count": 28,
   "id": "1ce170ba",
   "metadata": {},
   "outputs": [
    {
     "name": "stderr",
     "output_type": "stream",
     "text": [
      "  0%|                                                    | 0/50 [00:00<?, ?it/s]\n"
     ]
    },
    {
     "ename": "UnboundLocalError",
     "evalue": "local variable 'final' referenced before assignment",
     "output_type": "error",
     "traceback": [
      "\u001b[0;31m---------------------------------------------------------------------------\u001b[0m",
      "\u001b[0;31mUnboundLocalError\u001b[0m                         Traceback (most recent call last)",
      "\u001b[0;32m/var/folders/yz/kqd5yqtx0dx0qfpmm8f_wdg40000gn/T/ipykernel_31450/4198384359.py\u001b[0m in \u001b[0;36m<module>\u001b[0;34m\u001b[0m\n\u001b[1;32m      5\u001b[0m \u001b[0mte\u001b[0m\u001b[0;34m.\u001b[0m\u001b[0madd_agent_pools\u001b[0m\u001b[0;34m(\u001b[0m\u001b[0;34m[\u001b[0m\u001b[0map_fiat\u001b[0m\u001b[0;34m]\u001b[0m\u001b[0;34m)\u001b[0m\u001b[0;34m\u001b[0m\u001b[0;34m\u001b[0m\u001b[0m\n\u001b[1;32m      6\u001b[0m \u001b[0mmeta\u001b[0m\u001b[0;34m=\u001b[0m\u001b[0mTokenMetaSimulator\u001b[0m\u001b[0;34m(\u001b[0m\u001b[0mte\u001b[0m\u001b[0;34m)\u001b[0m\u001b[0;34m\u001b[0m\u001b[0;34m\u001b[0m\u001b[0m\n\u001b[0;32m----> 7\u001b[0;31m \u001b[0mmeta\u001b[0m\u001b[0;34m.\u001b[0m\u001b[0mexecute\u001b[0m\u001b[0;34m(\u001b[0m\u001b[0miterations\u001b[0m\u001b[0;34m=\u001b[0m\u001b[0mITERATIONS\u001b[0m\u001b[0;34m,\u001b[0m\u001b[0mrepetitions\u001b[0m\u001b[0;34m=\u001b[0m\u001b[0;36m50\u001b[0m\u001b[0;34m)\u001b[0m\u001b[0;34m\u001b[0m\u001b[0;34m\u001b[0m\u001b[0m\n\u001b[0m\u001b[1;32m      8\u001b[0m \u001b[0mreps\u001b[0m\u001b[0;34m=\u001b[0m\u001b[0mmeta\u001b[0m\u001b[0;34m.\u001b[0m\u001b[0mget_data\u001b[0m\u001b[0;34m(\u001b[0m\u001b[0;34m)\u001b[0m\u001b[0;34m\u001b[0m\u001b[0;34m\u001b[0m\u001b[0m\n\u001b[1;32m      9\u001b[0m \u001b[0mplot\u001b[0m\u001b[0;34m,\u001b[0m\u001b[0mdata\u001b[0m\u001b[0;34m=\u001b[0m\u001b[0mmeta\u001b[0m\u001b[0;34m.\u001b[0m\u001b[0mget_timeseries\u001b[0m\u001b[0;34m(\u001b[0m\u001b[0;34m'tokenA_price'\u001b[0m\u001b[0;34m)\u001b[0m\u001b[0;34m\u001b[0m\u001b[0;34m\u001b[0m\u001b[0m\n",
      "\u001b[0;32m~/Dropbox (Personal)/Freelance/TokenLab/src/TokenLab/simulationcomponents/tokeneconomyclasses.py\u001b[0m in \u001b[0;36mexecute\u001b[0;34m(self, iterations, repetitions)\u001b[0m\n\u001b[1;32m    549\u001b[0m             \u001b[0mit_current_data\u001b[0m\u001b[0;34m=\u001b[0m\u001b[0;34m[\u001b[0m\u001b[0;34m]\u001b[0m\u001b[0;34m\u001b[0m\u001b[0;34m\u001b[0m\u001b[0m\n\u001b[1;32m    550\u001b[0m             \u001b[0;32mfor\u001b[0m \u001b[0mj\u001b[0m \u001b[0;32min\u001b[0m \u001b[0mrange\u001b[0m\u001b[0;34m(\u001b[0m\u001b[0miterations\u001b[0m\u001b[0;34m)\u001b[0m\u001b[0;34m:\u001b[0m\u001b[0;34m\u001b[0m\u001b[0;34m\u001b[0m\u001b[0m\n\u001b[0;32m--> 551\u001b[0;31m                 \u001b[0mresult\u001b[0m\u001b[0;34m=\u001b[0m\u001b[0mtoken_economy_copy\u001b[0m\u001b[0;34m.\u001b[0m\u001b[0mexecute\u001b[0m\u001b[0;34m(\u001b[0m\u001b[0;34m)\u001b[0m\u001b[0;34m\u001b[0m\u001b[0;34m\u001b[0m\u001b[0m\n\u001b[0m\u001b[1;32m    552\u001b[0m                 \u001b[0;31m#it_current_data.append(token_economy_copy.get_state())\u001b[0m\u001b[0;34m\u001b[0m\u001b[0;34m\u001b[0m\u001b[0m\n\u001b[1;32m    553\u001b[0m                 \u001b[0;32mif\u001b[0m \u001b[0;32mnot\u001b[0m \u001b[0mresult\u001b[0m\u001b[0;34m:\u001b[0m\u001b[0;34m\u001b[0m\u001b[0;34m\u001b[0m\u001b[0m\n",
      "\u001b[0;32m~/Dropbox (Personal)/Freelance/TokenLab/src/TokenLab/simulationcomponents/tokeneconomyclasses.py\u001b[0m in \u001b[0;36mexecute\u001b[0;34m(self)\u001b[0m\n\u001b[1;32m    453\u001b[0m \u001b[0;34m\u001b[0m\u001b[0m\n\u001b[1;32m    454\u001b[0m         \u001b[0;31m#Calculate price and the new holding time\u001b[0m\u001b[0;34m\u001b[0m\u001b[0;34m\u001b[0m\u001b[0m\n\u001b[0;32m--> 455\u001b[0;31m         \u001b[0mself\u001b[0m\u001b[0;34m.\u001b[0m\u001b[0m_price_function\u001b[0m\u001b[0;34m.\u001b[0m\u001b[0mexecute\u001b[0m\u001b[0;34m(\u001b[0m\u001b[0;34m)\u001b[0m\u001b[0;34m\u001b[0m\u001b[0;34m\u001b[0m\u001b[0m\n\u001b[0m\u001b[1;32m    456\u001b[0m         \u001b[0mself\u001b[0m\u001b[0;34m.\u001b[0m\u001b[0m_holding_time_controller\u001b[0m\u001b[0;34m.\u001b[0m\u001b[0mexecute\u001b[0m\u001b[0;34m(\u001b[0m\u001b[0;34m)\u001b[0m\u001b[0;34m\u001b[0m\u001b[0;34m\u001b[0m\u001b[0m\n\u001b[1;32m    457\u001b[0m \u001b[0;34m\u001b[0m\u001b[0m\n",
      "\u001b[0;32m~/Dropbox (Personal)/Freelance/TokenLab/src/TokenLab/simulationcomponents/pricingclasses.py\u001b[0m in \u001b[0;36mexecute\u001b[0;34m(self)\u001b[0m\n\u001b[1;32m    265\u001b[0m \u001b[0;34m\u001b[0m\u001b[0m\n\u001b[1;32m    266\u001b[0m         \u001b[0;32mif\u001b[0m \u001b[0mself\u001b[0m\u001b[0;34m.\u001b[0m\u001b[0m_noise_addon\u001b[0m\u001b[0;34m!=\u001b[0m\u001b[0;32mNone\u001b[0m\u001b[0;34m:\u001b[0m\u001b[0;34m\u001b[0m\u001b[0;34m\u001b[0m\u001b[0m\n\u001b[0;32m--> 267\u001b[0;31m             \u001b[0mprice_new_2\u001b[0m\u001b[0;34m=\u001b[0m\u001b[0mself\u001b[0m\u001b[0;34m.\u001b[0m\u001b[0m_noise_addon\u001b[0m\u001b[0;34m.\u001b[0m\u001b[0mapply\u001b[0m\u001b[0;34m(\u001b[0m\u001b[0;34m**\u001b[0m\u001b[0;34m{\u001b[0m\u001b[0;34m'value'\u001b[0m\u001b[0;34m:\u001b[0m\u001b[0mprice_new\u001b[0m\u001b[0;34m}\u001b[0m\u001b[0;34m)\u001b[0m\u001b[0;34m\u001b[0m\u001b[0;34m\u001b[0m\u001b[0m\n\u001b[0m\u001b[1;32m    268\u001b[0m         \u001b[0;32melse\u001b[0m\u001b[0;34m:\u001b[0m\u001b[0;34m\u001b[0m\u001b[0;34m\u001b[0m\u001b[0m\n\u001b[1;32m    269\u001b[0m             \u001b[0mprice_new_2\u001b[0m \u001b[0;34m=\u001b[0m \u001b[0;34m-\u001b[0m\u001b[0;36m1\u001b[0m\u001b[0;34m\u001b[0m\u001b[0;34m\u001b[0m\u001b[0m\n",
      "\u001b[0;32m~/Dropbox (Personal)/Freelance/TokenLab/src/TokenLab/simulationcomponents/addons.py\u001b[0m in \u001b[0;36mapply\u001b[0;34m(self, value)\u001b[0m\n\u001b[1;32m    120\u001b[0m             \u001b[0mfinal\u001b[0m \u001b[0;34m=\u001b[0m \u001b[0mvalue\u001b[0m \u001b[0;34m+\u001b[0m \u001b[0mnoise\u001b[0m\u001b[0;34m\u001b[0m\u001b[0;34m\u001b[0m\u001b[0m\n\u001b[1;32m    121\u001b[0m \u001b[0;34m\u001b[0m\u001b[0m\n\u001b[0;32m--> 122\u001b[0;31m         \u001b[0;32mreturn\u001b[0m \u001b[0mfinal\u001b[0m\u001b[0;34m\u001b[0m\u001b[0;34m\u001b[0m\u001b[0m\n\u001b[0m\u001b[1;32m    123\u001b[0m \u001b[0;34m\u001b[0m\u001b[0m\n\u001b[1;32m    124\u001b[0m \u001b[0;34m\u001b[0m\u001b[0m\n",
      "\u001b[0;31mUnboundLocalError\u001b[0m: local variable 'final' referenced before assignment"
     ]
    }
   ],
   "source": [
    "te=TokenEconomy_Basic(holding_time=HoldingTime_Stochastic(),supply=SUPPLY,\n",
    "                      price_function=PriceFunction_EOE,token='tokenA',supply_is_added=False,\n",
    "                      price_function_parameters={'noise_addon':AddOn_RandomNoiseProportional(std_param=1,add_value=False)},initial_price=INITIAL_PRICE)\n",
    "\n",
    "te.add_agent_pools([ap_fiat])\n",
    "meta=TokenMetaSimulator(te)\n",
    "meta.execute(iterations=ITERATIONS,repetitions=50)\n",
    "reps=meta.get_data()\n",
    "plot,data=meta.get_timeseries('tokenA_price')\n",
    "plot"
   ]
  },
  {
   "cell_type": "code",
   "execution_count": null,
   "id": "045341db",
   "metadata": {},
   "outputs": [],
   "source": []
  }
 ],
 "metadata": {
  "kernelspec": {
   "display_name": "Python 3 (ipykernel)",
   "language": "python",
   "name": "python3"
  },
  "language_info": {
   "codemirror_mode": {
    "name": "ipython",
    "version": 3
   },
   "file_extension": ".py",
   "mimetype": "text/x-python",
   "name": "python",
   "nbconvert_exporter": "python",
   "pygments_lexer": "ipython3",
   "version": "3.9.12"
  }
 },
 "nbformat": 4,
 "nbformat_minor": 5
}
