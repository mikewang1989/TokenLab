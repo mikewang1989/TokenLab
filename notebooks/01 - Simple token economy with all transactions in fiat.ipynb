{
 "cells": [
  {
   "cell_type": "markdown",
   "id": "c9d8e8e0",
   "metadata": {},
   "source": [
    "# Example of a simple transaction fiat->token economy\n",
    "\n",
    "This is a super basic type of token economy, that will not often happen in practice. It assumes that all inflows are in fiat, and pricing happens through external forces. \n",
    "\n",
    "Then, these transactions are simply converted into a token equivalent. This presents the most basic case of a token economy."
   ]
  },
  {
   "cell_type": "code",
   "execution_count": 1,
   "id": "4d5ec301",
   "metadata": {},
   "outputs": [],
   "source": [
    "import numpy as np\n",
    "import scipy\n",
    "import sys\n",
    "import os\n",
    "tokenlab_path=os.path.abspath(\"\").replace('notebooks','src')\n",
    "sys.path.insert(0,tokenlab_path)\n",
    "\n",
    "\n",
    "from TokenLab.simulationcomponents import *\n",
    "from TokenLab.simulationcomponents.usergrowthclasses import *\n",
    "from TokenLab.simulationcomponents.transactionclasses import *\n",
    "from TokenLab.simulationcomponents.tokeneconomyclasses import *\n",
    "from TokenLab.simulationcomponents.transactionclasses import *\n",
    "from TokenLab.simulationcomponents.agentpoolclasses import *\n",
    "from TokenLab.simulationcomponents.pricingclasses import *\n",
    "from TokenLab.simulationcomponents.addons import AddOn_RandomNoise, AddOn_RandomNoiseProportional\n",
    "from TokenLab.utils.helpers import *\n",
    "from matplotlib import pyplot as plt"
   ]
  },
  {
   "cell_type": "code",
   "execution_count": 2,
   "id": "c93127eb",
   "metadata": {},
   "outputs": [
    {
     "data": {
      "text/plain": [
       "'/Users/stylianoskampakis/Dropbox (Personal)/Freelance/TokenLab/src'"
      ]
     },
     "execution_count": 2,
     "metadata": {},
     "output_type": "execute_result"
    }
   ],
   "source": [
    "tokenlab_path"
   ]
  },
  {
   "cell_type": "code",
   "execution_count": 3,
   "id": "64a62fd1",
   "metadata": {},
   "outputs": [],
   "source": [
    "ITERATIONS=60\n",
    "HOLDING_TIME=1\n",
    "SUPPLY=10**10\n",
    "INITIAL_PRICE=0.1"
   ]
  },
  {
   "cell_type": "markdown",
   "id": "b513d57e",
   "metadata": {},
   "source": [
    "## Agent pools\n",
    "\n",
    "TokenLab is based a modular logic. A token economy is composed of agent pools that can have various dependencies with each other.\n",
    "\n",
    "The most basic agent pool contains a group of users who act independently from each other. This, for example, can be a group of consumers, who independently decide to buy a token in order to access a good or a service. \n",
    "\n",
    "Agent pools are using Controller objects for their inside parts.\n",
    "\n",
    "The simplest type of agent pool is the AgentPool_Basic type. It assumes that there are only two Controller objects needed: one to simulate the number of users, and one to simulate the volume of transactions.\n",
    "\n",
    "We can also simply provide a fixed number to each one of those parameters. This is a very simple case, where we assume we have a steady number of users, and that the total value of transactions at each unit of time is simply users *  transactions_controller\n",
    "\n",
    "\n",
    "### Currency and agentpools\n",
    "\n",
    "In this particular example, we are setting the currency to be in USD which is the default option for token economies. When creating an agent pool we can either denominate in USD or in the token. An AgentPool_Basic object is used to generate transactions. When these transactions are denominated in fiat, then the token economy will convert them internally into tokens, when calculating price and other parameters.\n",
    "\n",
    "If the agent pool's currency was denominated in token, then it take the current price, and run calculations to understand the transaction volume.\n",
    "\n",
    "It's usually easier to make assumptions for the demand of a token based on fiat, rather than a token. However, an agent pool with the token as a currency can be used when we are simulating pools like speculators of the token."
   ]
  },
  {
   "cell_type": "code",
   "execution_count": 4,
   "id": "a7f6b8cd",
   "metadata": {},
   "outputs": [],
   "source": [
    "ap_fiat=AgentPool_Basic(users_controller=10000,transactions_controller=1000,currency='$')"
   ]
  },
  {
   "cell_type": "markdown",
   "id": "55d76ed9",
   "metadata": {},
   "source": [
    "# Token economy\n",
    "\n",
    "Now, we define a token economy object. We then feed this object into the TokenMetaSimulator which allows to perform multiple experiments with a token economy. The parameter iterations refers to the internal iterations for each token economy run, and the parameter repetitions is the total number of simulations to perform. \n",
    "\n",
    "This simple token economy assumes an average holding time which is determined by the user. There is also the option to create adaptive holding times, calculated from the sim's parameters or stochastic ones, as we will explore later."
   ]
  },
  {
   "cell_type": "code",
   "execution_count": 5,
   "id": "08aef3cc",
   "metadata": {
    "scrolled": true
   },
   "outputs": [
    {
     "data": {
      "text/plain": [
       "True"
      ]
     },
     "execution_count": 5,
     "metadata": {},
     "output_type": "execute_result"
    }
   ],
   "source": [
    "te=TokenEconomy_Basic(holding_time=HOLDING_TIME,supply=SUPPLY,token='tokenA',initial_price=INITIAL_PRICE)\n",
    "te.add_agent_pools([ap_fiat])"
   ]
  },
  {
   "cell_type": "code",
   "execution_count": 6,
   "id": "29c26bce",
   "metadata": {},
   "outputs": [
    {
     "name": "stderr",
     "output_type": "stream",
     "text": [
      "100%|██████████████████████████████████████████| 50/50 [00:00<00:00, 635.25it/s]\n"
     ]
    }
   ],
   "source": [
    "meta=TokenMetaSimulator(te)\n",
    "meta.execute(iterations=ITERATIONS,repetitions=50)\n",
    "reps=meta.get_data()"
   ]
  },
  {
   "cell_type": "code",
   "execution_count": 7,
   "id": "2c0586a3",
   "metadata": {},
   "outputs": [
    {
     "data": {
      "text/html": [
       "<div>\n",
       "<style scoped>\n",
       "    .dataframe tbody tr th:only-of-type {\n",
       "        vertical-align: middle;\n",
       "    }\n",
       "\n",
       "    .dataframe tbody tr th {\n",
       "        vertical-align: top;\n",
       "    }\n",
       "\n",
       "    .dataframe thead th {\n",
       "        text-align: right;\n",
       "    }\n",
       "</style>\n",
       "<table border=\"1\" class=\"dataframe\">\n",
       "  <thead>\n",
       "    <tr style=\"text-align: right;\">\n",
       "      <th></th>\n",
       "      <th>tokenA_price</th>\n",
       "      <th>transactions_$</th>\n",
       "      <th>num_users</th>\n",
       "      <th>iteration</th>\n",
       "      <th>holding_time</th>\n",
       "      <th>effective_holding_time</th>\n",
       "      <th>supply</th>\n",
       "      <th>transactions_tokenA</th>\n",
       "      <th>repetition_run</th>\n",
       "      <th>iteration_time</th>\n",
       "    </tr>\n",
       "  </thead>\n",
       "  <tbody>\n",
       "    <tr>\n",
       "      <th>0</th>\n",
       "      <td>0.001</td>\n",
       "      <td>10000000</td>\n",
       "      <td>10000</td>\n",
       "      <td>1</td>\n",
       "      <td>1</td>\n",
       "      <td>1.0</td>\n",
       "      <td>10000000000</td>\n",
       "      <td>1.000000e+08</td>\n",
       "      <td>0</td>\n",
       "      <td>0</td>\n",
       "    </tr>\n",
       "    <tr>\n",
       "      <th>1</th>\n",
       "      <td>0.001</td>\n",
       "      <td>10000000</td>\n",
       "      <td>20000</td>\n",
       "      <td>2</td>\n",
       "      <td>1</td>\n",
       "      <td>1.0</td>\n",
       "      <td>10000000000</td>\n",
       "      <td>1.000000e+10</td>\n",
       "      <td>0</td>\n",
       "      <td>1</td>\n",
       "    </tr>\n",
       "    <tr>\n",
       "      <th>2</th>\n",
       "      <td>0.001</td>\n",
       "      <td>10000000</td>\n",
       "      <td>30000</td>\n",
       "      <td>3</td>\n",
       "      <td>1</td>\n",
       "      <td>1.0</td>\n",
       "      <td>10000000000</td>\n",
       "      <td>1.000000e+10</td>\n",
       "      <td>0</td>\n",
       "      <td>2</td>\n",
       "    </tr>\n",
       "    <tr>\n",
       "      <th>3</th>\n",
       "      <td>0.001</td>\n",
       "      <td>10000000</td>\n",
       "      <td>40000</td>\n",
       "      <td>4</td>\n",
       "      <td>1</td>\n",
       "      <td>1.0</td>\n",
       "      <td>10000000000</td>\n",
       "      <td>1.000000e+10</td>\n",
       "      <td>0</td>\n",
       "      <td>3</td>\n",
       "    </tr>\n",
       "    <tr>\n",
       "      <th>4</th>\n",
       "      <td>0.001</td>\n",
       "      <td>10000000</td>\n",
       "      <td>50000</td>\n",
       "      <td>5</td>\n",
       "      <td>1</td>\n",
       "      <td>1.0</td>\n",
       "      <td>10000000000</td>\n",
       "      <td>1.000000e+10</td>\n",
       "      <td>0</td>\n",
       "      <td>4</td>\n",
       "    </tr>\n",
       "    <tr>\n",
       "      <th>...</th>\n",
       "      <td>...</td>\n",
       "      <td>...</td>\n",
       "      <td>...</td>\n",
       "      <td>...</td>\n",
       "      <td>...</td>\n",
       "      <td>...</td>\n",
       "      <td>...</td>\n",
       "      <td>...</td>\n",
       "      <td>...</td>\n",
       "      <td>...</td>\n",
       "    </tr>\n",
       "    <tr>\n",
       "      <th>55</th>\n",
       "      <td>0.001</td>\n",
       "      <td>10000000</td>\n",
       "      <td>560000</td>\n",
       "      <td>56</td>\n",
       "      <td>1</td>\n",
       "      <td>1.0</td>\n",
       "      <td>10000000000</td>\n",
       "      <td>1.000000e+10</td>\n",
       "      <td>49</td>\n",
       "      <td>55</td>\n",
       "    </tr>\n",
       "    <tr>\n",
       "      <th>56</th>\n",
       "      <td>0.001</td>\n",
       "      <td>10000000</td>\n",
       "      <td>570000</td>\n",
       "      <td>57</td>\n",
       "      <td>1</td>\n",
       "      <td>1.0</td>\n",
       "      <td>10000000000</td>\n",
       "      <td>1.000000e+10</td>\n",
       "      <td>49</td>\n",
       "      <td>56</td>\n",
       "    </tr>\n",
       "    <tr>\n",
       "      <th>57</th>\n",
       "      <td>0.001</td>\n",
       "      <td>10000000</td>\n",
       "      <td>580000</td>\n",
       "      <td>58</td>\n",
       "      <td>1</td>\n",
       "      <td>1.0</td>\n",
       "      <td>10000000000</td>\n",
       "      <td>1.000000e+10</td>\n",
       "      <td>49</td>\n",
       "      <td>57</td>\n",
       "    </tr>\n",
       "    <tr>\n",
       "      <th>58</th>\n",
       "      <td>0.001</td>\n",
       "      <td>10000000</td>\n",
       "      <td>590000</td>\n",
       "      <td>59</td>\n",
       "      <td>1</td>\n",
       "      <td>1.0</td>\n",
       "      <td>10000000000</td>\n",
       "      <td>1.000000e+10</td>\n",
       "      <td>49</td>\n",
       "      <td>58</td>\n",
       "    </tr>\n",
       "    <tr>\n",
       "      <th>59</th>\n",
       "      <td>0.001</td>\n",
       "      <td>10000000</td>\n",
       "      <td>600000</td>\n",
       "      <td>60</td>\n",
       "      <td>1</td>\n",
       "      <td>1.0</td>\n",
       "      <td>10000000000</td>\n",
       "      <td>1.000000e+10</td>\n",
       "      <td>49</td>\n",
       "      <td>59</td>\n",
       "    </tr>\n",
       "  </tbody>\n",
       "</table>\n",
       "<p>3000 rows × 10 columns</p>\n",
       "</div>"
      ],
      "text/plain": [
       "    tokenA_price  transactions_$  num_users  iteration  holding_time  \\\n",
       "0          0.001        10000000      10000          1             1   \n",
       "1          0.001        10000000      20000          2             1   \n",
       "2          0.001        10000000      30000          3             1   \n",
       "3          0.001        10000000      40000          4             1   \n",
       "4          0.001        10000000      50000          5             1   \n",
       "..           ...             ...        ...        ...           ...   \n",
       "55         0.001        10000000     560000         56             1   \n",
       "56         0.001        10000000     570000         57             1   \n",
       "57         0.001        10000000     580000         58             1   \n",
       "58         0.001        10000000     590000         59             1   \n",
       "59         0.001        10000000     600000         60             1   \n",
       "\n",
       "    effective_holding_time       supply  transactions_tokenA  repetition_run  \\\n",
       "0                      1.0  10000000000         1.000000e+08               0   \n",
       "1                      1.0  10000000000         1.000000e+10               0   \n",
       "2                      1.0  10000000000         1.000000e+10               0   \n",
       "3                      1.0  10000000000         1.000000e+10               0   \n",
       "4                      1.0  10000000000         1.000000e+10               0   \n",
       "..                     ...          ...                  ...             ...   \n",
       "55                     1.0  10000000000         1.000000e+10              49   \n",
       "56                     1.0  10000000000         1.000000e+10              49   \n",
       "57                     1.0  10000000000         1.000000e+10              49   \n",
       "58                     1.0  10000000000         1.000000e+10              49   \n",
       "59                     1.0  10000000000         1.000000e+10              49   \n",
       "\n",
       "    iteration_time  \n",
       "0                0  \n",
       "1                1  \n",
       "2                2  \n",
       "3                3  \n",
       "4                4  \n",
       "..             ...  \n",
       "55              55  \n",
       "56              56  \n",
       "57              57  \n",
       "58              58  \n",
       "59              59  \n",
       "\n",
       "[3000 rows x 10 columns]"
      ]
     },
     "execution_count": 7,
     "metadata": {},
     "output_type": "execute_result"
    }
   ],
   "source": [
    "reps"
   ]
  },
  {
   "cell_type": "markdown",
   "id": "875ea38c",
   "metadata": {},
   "source": [
    "We can use the get_timeseries() method for any of the columns produced by the metasimulator, in order to get a graph averaged across all repetitions/runs. As you can see below the price is stable, which is what we expected, since we have a stable number of users and transaction value."
   ]
  },
  {
   "cell_type": "code",
   "execution_count": 8,
   "id": "c1c2c5d7",
   "metadata": {},
   "outputs": [
    {
     "data": {
      "image/png": "[encoded data removed]",
      "text/plain": [
       "<Figure size 640x480 with 1 Axes>"
      ]
     },
     "metadata": {},
     "output_type": "display_data"
    },
    {
     "data": {
      "text/plain": [
       "<matplotlib.collections.PolyCollection at 0x7f7b48274640>"
      ]
     },
     "execution_count": 8,
     "metadata": {},
     "output_type": "execute_result"
    }
   ],
   "source": [
    "plot,data=meta.get_timeseries('tokenA_price')\n",
    "plot"
   ]
  },
  {
   "cell_type": "markdown",
   "id": "d5e8b746",
   "metadata": {},
   "source": [
    "# With increasing user growth\n",
    "\n",
    "Now let's try to use usergrowth_spaced class to create a user base that is growing.\n",
    "\n",
    "That class is using functions from utils.helpers and numpy in order to simulate smooth user growth. Let's see what this looks like below. The class requires you to pre-specify the initial and final number of users, and use one out of three functions:\n",
    "\n",
    "1. log_saturated_space: This is a function that creates a logarithmic growth, that abides by a saturation effect.\n",
    "2. np.linspace,np.logspace,np.geomspace: these are numpy functions for linear, logarithmic and geometric growth.\n",
    "\n",
    "In the example below, we will use the log_saturated_space. Given than that we have only one pool, and that the transaction size is constant (total amount of transactions is simply users * averagetransaction) , then we see that the value of the token appreciates in the same way as the user base grows. Again, this is a very basic example, which would be unlikely to take place in the real world, but is useful for demonstration purposes."
   ]
  },
  {
   "cell_type": "code",
   "execution_count": 9,
   "id": "8503cf91",
   "metadata": {},
   "outputs": [
    {
     "data": {
      "text/plain": [
       "[<matplotlib.lines.Line2D at 0x7f7b78eadeb0>]"
      ]
     },
     "execution_count": 9,
     "metadata": {},
     "output_type": "execute_result"
    },
    {
     "data": {
      "image/png": "[encoded data removed]",
      "text/plain": [
       "<Figure size 640x480 with 1 Axes>"
      ]
     },
     "metadata": {},
     "output_type": "display_data"
    }
   ],
   "source": [
    "usm_fiat=UserGrowth_Spaced(100,54000,ITERATIONS,log_saturated_space)\n",
    "\n",
    "\n",
    "ap_fiat=AgentPool_Basic(users_controller=usm_fiat,transactions_controller=1000,currency='$')\n",
    "plt.plot(usm_fiat.get_users_store())"
   ]
  },
  {
   "cell_type": "markdown",
   "id": "96bea5b7",
   "metadata": {},
   "source": [
    "Note that you can also access variables using brackets. However, '_num_users_store' is a private variable, so direct acccess is discouraged."
   ]
  },
  {
   "cell_type": "code",
   "execution_count": 10,
   "id": "2b6d9e7e",
   "metadata": {},
   "outputs": [
    {
     "name": "stdout",
     "output_type": "stream",
     "text": [
      "0\n",
      "[22864 34362 37553 39479 40863 41945 42832 43585 44238 44815 45333 45801\n",
      " 46229 46623 46988 47328 47646 47945 48227 48494 48747 48988 49218 49437\n",
      " 49648 49849 50043 50230 50410 50583 50751 50913 51070 51223 51370 51514\n",
      " 51653 51789 51921 52049 52175 52297 52416 52533 52647 52758 52867 52973\n",
      " 53078 53180 53280 53378 53474 53569 53661 53752 53841 53929 54015 54100]\n"
     ]
    }
   ],
   "source": [
    "print(ap_fiat['num_users'])\n",
    "print(usm_fiat['_num_users_store'])"
   ]
  },
  {
   "cell_type": "code",
   "execution_count": 11,
   "id": "1999bf2a",
   "metadata": {},
   "outputs": [
    {
     "name": "stderr",
     "output_type": "stream",
     "text": [
      "100%|██████████████████████████████████████████| 50/50 [00:00<00:00, 554.34it/s]\n"
     ]
    },
    {
     "data": {
      "image/png": "[encoded data removed]",
      "text/plain": [
       "<Figure size 640x480 with 1 Axes>"
      ]
     },
     "metadata": {},
     "output_type": "display_data"
    },
    {
     "data": {
      "text/plain": [
       "<matplotlib.collections.PolyCollection at 0x7f7b98398a60>"
      ]
     },
     "execution_count": 11,
     "metadata": {},
     "output_type": "execute_result"
    }
   ],
   "source": [
    "te=TokenEconomy_Basic(holding_time=HOLDING_TIME,supply=SUPPLY,token='tokenA',initial_price=INITIAL_PRICE)\n",
    "te.add_agent_pools([ap_fiat])\n",
    "meta=TokenMetaSimulator(te)\n",
    "meta.execute(iterations=ITERATIONS,repetitions=50)\n",
    "reps=meta.get_data()\n",
    "plot,data=meta.get_timeseries('tokenA_price')\n",
    "plot"
   ]
  },
  {
   "cell_type": "markdown",
   "id": "1f6674f7",
   "metadata": {},
   "source": [
    "UserGrowth_Spaced as an argument called use_difference. When this is set to True, the UserGrowth calculates the number of users in a different way. \n",
    "\n",
    "In the default version (use_difference=False), the number of users added at each step of the token economy, grows in a logarithmic fashion, in the above example.\n",
    "\n",
    "If we set use_difference=True, then the actual growth follows the logarithmic pattern, but not the total number of users. This is easier to demonstrate using plots."
   ]
  },
  {
   "cell_type": "code",
   "execution_count": 12,
   "id": "cf5872ff",
   "metadata": {},
   "outputs": [
    {
     "data": {
      "text/plain": [
       "[<matplotlib.lines.Line2D at 0x7f7bba2ea310>]"
      ]
     },
     "execution_count": 12,
     "metadata": {},
     "output_type": "execute_result"
    },
    {
     "data": {
      "image/png": "[encoded data removed]",
      "text/plain": [
       "<Figure size 640x480 with 1 Axes>"
      ]
     },
     "metadata": {},
     "output_type": "display_data"
    }
   ],
   "source": [
    "usm_fiat=UserGrowth_Spaced(100,54000,ITERATIONS,log_saturated_space,use_difference=True)\n",
    "plt.plot(usm_fiat.get_users_store())"
   ]
  },
  {
   "cell_type": "markdown",
   "id": "e8db4e37",
   "metadata": {},
   "source": [
    "We see that the user growth spikes, and then slows down. This is reflected as smooth, nearly linear user growth."
   ]
  },
  {
   "cell_type": "code",
   "execution_count": 13,
   "id": "a6d629e7",
   "metadata": {},
   "outputs": [
    {
     "ename": "AttributeError",
     "evalue": "'TokenEconomy_Basic' object has no attribute 'get_users_store'",
     "output_type": "error",
     "traceback": [
      "\u001b[0;31m---------------------------------------------------------------------------\u001b[0m",
      "\u001b[0;31mAttributeError\u001b[0m                            Traceback (most recent call last)",
      "\u001b[0;32m/var/folders/yz/kqd5yqtx0dx0qfpmm8f_wdg40000gn/T/ipykernel_4202/4066344426.py\u001b[0m in \u001b[0;36m<module>\u001b[0;34m\u001b[0m\n\u001b[1;32m      5\u001b[0m     \u001b[0mte\u001b[0m\u001b[0;34m.\u001b[0m\u001b[0mexecute\u001b[0m\u001b[0;34m(\u001b[0m\u001b[0;34m)\u001b[0m\u001b[0;34m\u001b[0m\u001b[0;34m\u001b[0m\u001b[0m\n\u001b[1;32m      6\u001b[0m \u001b[0;34m\u001b[0m\u001b[0m\n\u001b[0;32m----> 7\u001b[0;31m \u001b[0mplt\u001b[0m\u001b[0;34m.\u001b[0m\u001b[0mplot\u001b[0m\u001b[0;34m(\u001b[0m\u001b[0mte\u001b[0m\u001b[0;34m.\u001b[0m\u001b[0mget_users_store\u001b[0m\u001b[0;34m(\u001b[0m\u001b[0;34m)\u001b[0m\u001b[0;34m)\u001b[0m\u001b[0;34m\u001b[0m\u001b[0;34m\u001b[0m\u001b[0m\n\u001b[0m",
      "\u001b[0;31mAttributeError\u001b[0m: 'TokenEconomy_Basic' object has no attribute 'get_users_store'"
     ]
    }
   ],
   "source": [
    "te=TokenEconomy_Basic(holding_time=HOLDING_TIME,supply=SUPPLY,token='tokenA',initial_price=INITIAL_PRICE)\n",
    "te.add_agent_pools([ap_fiat])\n",
    "\n",
    "for i in range(ITERATIONS):\n",
    "    te.execute()\n",
    "    \n",
    "plt.plot(te.get_users_store())"
   ]
  },
  {
   "cell_type": "markdown",
   "id": "3eb5822a",
   "metadata": {},
   "source": [
    "# User growth and stochastic transactions\n",
    "\n",
    "Now let's try to also include a stochastic component in transactions. For this purpose we will use the TransactionManagement_Stochastic class. This is one of the more complicate classes in TokenLab. The class works as follows:\n",
    "\n",
    "1. You can define the activity_probs which determine the % of users which are active at any given time. This % is sampled from a binomial distribution.\n",
    "\n",
    "2. You can define a distribution for the average value of the transaction per iteration. This can be any distribution with location and scale parameters from scipy.stats. By default, the distribution is the Gaussian. In this example we've set the average value to be 1000, and the standard deviation to be 200.\n",
    "\n",
    "3. You can define the number of transactions per active user. By default, this is done through a Poisson distribution. In this example, we define the parameter mu=1.\n",
    "\n",
    "You will see that now the price fluctuates more wildly as transactions are stochastic. However, because the activity probabilities rise over time (users become more active), the expected average price per month follows a rising trend."
   ]
  },
  {
   "cell_type": "code",
   "execution_count": null,
   "id": "3c08a027",
   "metadata": {},
   "outputs": [],
   "source": [
    "usm_fiat=UserGrowth_Spaced(100,54000,ITERATIONS,log_saturated_space)\n",
    "tsm_fiat=TransactionManagement_Stochastic(activity_probs=np.linspace(0.25,1,ITERATIONS),\n",
    "                                            value_dist_parameters={'loc':1000,'scale':200},\n",
    "                                           transactions_dist_parameters={'mu':1})\n",
    "\n",
    "ap_fiat=AgentPool_Basic(users_controller=usm_fiat,transactions_controller=tsm_fiat,currency='$')"
   ]
  },
  {
   "cell_type": "code",
   "execution_count": null,
   "id": "2f28123f",
   "metadata": {},
   "outputs": [],
   "source": [
    "te=TokenEconomy_Basic(holding_time=HOLDING_TIME,supply=SUPPLY,token='tokenA',initial_price=INITIAL_PRICE)\n",
    "te.add_agent_pools([ap_fiat])\n",
    "meta=TokenMetaSimulator(te)\n",
    "meta.execute(iterations=ITERATIONS,repetitions=50)\n",
    "reps=meta.get_data()\n",
    "plot,data=meta.get_timeseries('tokenA_price')\n",
    "plot"
   ]
  },
  {
   "cell_type": "markdown",
   "id": "e827a5c2",
   "metadata": {},
   "source": [
    "# Stochastic holding time\n",
    "\n",
    "Now, let's experiment with changing the holding time. The HoldingTime_Stochastic class is using a standard normal distribution to simulate different holding times."
   ]
  },
  {
   "cell_type": "code",
   "execution_count": null,
   "id": "a043853e",
   "metadata": {},
   "outputs": [],
   "source": [
    "te=TokenEconomy_Basic(holding_time=HoldingTime_Stochastic(),supply=SUPPLY,token='tokenA',initial_price=INITIAL_PRICE)\n",
    "te.add_agent_pools([ap_fiat])\n",
    "meta=TokenMetaSimulator(te)\n",
    "meta.execute(iterations=ITERATIONS,repetitions=50)\n",
    "reps=meta.get_data()\n",
    "plot,data=meta.get_timeseries('tokenA_price')\n",
    "plot"
   ]
  },
  {
   "cell_type": "markdown",
   "id": "2581ac62",
   "metadata": {},
   "source": [
    "In the 'reps' table that contains the simulation data (seen below), you will notice a column called 'effective_holding_rate'. The simulation is using the equation of exchange for pricing, and the price is determined exogenously. \n",
    "\n",
    "The effective_holding_rate is what the holding rate would be, if the equation of exchanged had been used to calculate it at a given iteration in a feedback loop type of fashion. \n",
    "\n",
    "Then, you might ask, why do we need to use an exogenously defined holding rate?\n",
    "\n",
    "First of all, using the effective holding rate is always an option. However, the model can become unstable. Let's not forget that the equation of exchange itself in this context is making simplifying assumptions. Therefore, it might make more sense to give a plausible range of values and try out different simulations to understand the sensitivity of the model.\n",
    "\n",
    "In the histograms below you see the difference between the stochastic holding time and the effective. We see that the two histograms have some similarities, which is good. It means that the assumptions around user growth, price and holding time are not off."
   ]
  },
  {
   "cell_type": "code",
   "execution_count": null,
   "id": "364bc1d2",
   "metadata": {},
   "outputs": [],
   "source": [
    "reps"
   ]
  },
  {
   "cell_type": "code",
   "execution_count": null,
   "id": "41375d21",
   "metadata": {},
   "outputs": [],
   "source": [
    "reps.effective_holding_time.hist()"
   ]
  },
  {
   "cell_type": "code",
   "execution_count": null,
   "id": "3e9e3014",
   "metadata": {},
   "outputs": [],
   "source": [
    "reps.holding_time.hist()"
   ]
  },
  {
   "cell_type": "markdown",
   "id": "a4dcafb6",
   "metadata": {},
   "source": [
    "# Price plus noise\n",
    "\n",
    "There are different pricing functions that we can use. Let's try replacing the normal pricing function, with one that adds Gaussian noise and let's see what happens."
   ]
  },
  {
   "cell_type": "code",
   "execution_count": null,
   "id": "272b6156",
   "metadata": {},
   "outputs": [],
   "source": [
    "te=TokenEconomy_Basic(holding_time=HoldingTime_Stochastic(),supply=SUPPLY,\n",
    "                      price_function=PriceFunction_EOE,token='tokenA',\n",
    "                      price_function_parameters={'noise_addon':AddOn_RandomNoise()},initial_price=INITIAL_PRICE)\n",
    "te.add_agent_pools([ap_fiat])\n",
    "meta=TokenMetaSimulator(te)\n",
    "meta.execute(iterations=ITERATIONS,repetitions=50)\n",
    "reps=meta.get_data()\n",
    "plot,data=meta.get_timeseries('tokenA_price')\n",
    "plot\n",
    "reps"
   ]
  },
  {
   "cell_type": "markdown",
   "id": "8ff92cdb",
   "metadata": {},
   "source": [
    "# Price plus noise plus adaptive variance\n",
    "\n",
    "This is a special pricing mechanism which induces randomness in the price, but the variance of the noise is proportional to the price. The idea behind this is similar to https://www.investopedia.com/terms/g/garch.asp and has also been observed in the cryptocurrency markets. For example, this holds true for Bitcoin. The higher the value of bitcoin, the higher the observed volatility."
   ]
  },
  {
   "cell_type": "code",
   "execution_count": null,
   "id": "1ce170ba",
   "metadata": {},
   "outputs": [],
   "source": [
    "te=TokenEconomy_Basic(holding_time=HoldingTime_Stochastic(),supply=SUPPLY,\n",
    "                      price_function=PriceFunction_EOE,token='tokenA',\n",
    "                      price_function_parameters={'noise_addon':AddOn_RandomNoiseProportional(std_param=3)},initial_price=INITIAL_PRICE)\n",
    "\n",
    "te.add_agent_pools([ap_fiat])\n",
    "meta=TokenMetaSimulator(te)\n",
    "meta.execute(iterations=ITERATIONS,repetitions=50)\n",
    "reps=meta.get_data()\n",
    "plot,data=meta.get_timeseries('tokenA_price')\n",
    "plot"
   ]
  }
 ],
 "metadata": {
  "kernelspec": {
   "display_name": "Python 3 (ipykernel)",
   "language": "python",
   "name": "python3"
  },
  "language_info": {
   "codemirror_mode": {
    "name": "ipython",
    "version": 3
   },
   "file_extension": ".py",
   "mimetype": "text/x-python",
   "name": "python",
   "nbconvert_exporter": "python",
   "pygments_lexer": "ipython3",
   "version": "3.9.12"
  }
 },
 "nbformat": 4,
 "nbformat_minor": 5
}
