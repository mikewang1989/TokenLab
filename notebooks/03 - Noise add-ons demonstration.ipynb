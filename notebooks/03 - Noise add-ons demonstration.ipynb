{
 "cells": [
  {
   "cell_type": "markdown",
   "id": "c9d8e8e0",
   "metadata": {},
   "source": [
    "# Examples of noise added to the simulations\n",
    "\n",
    "This is a copy of the super basic token economy, used to demonstrate the noise add-ons."
   ]
  },
  {
   "cell_type": "code",
   "execution_count": 1,
   "id": "4d5ec301",
   "metadata": {},
   "outputs": [
    {
     "name": "stderr",
     "output_type": "stream",
     "text": [
      "<frozen importlib._bootstrap>:228: RuntimeWarning: scipy._lib.messagestream.MessageStream size changed, may indicate binary incompatibility. Expected 56 from C header, got 64 from PyObject\n"
     ]
    },
    {
     "ename": "IndentationError",
     "evalue": "expected an indented block (transactionclasses.py, line 594)",
     "output_type": "error",
     "traceback": [
      "Traceback \u001b[0;36m(most recent call last)\u001b[0m:\n",
      "  File \u001b[1;32m\"/Users/stylianoskampakis/opt/anaconda3/envs/kalgera3/lib/python3.9/site-packages/IPython/core/interactiveshell.py\"\u001b[0m, line \u001b[1;32m3457\u001b[0m, in \u001b[1;35mrun_code\u001b[0m\n    exec(code_obj, self.user_global_ns, self.user_ns)\n",
      "\u001b[0;36m  File \u001b[0;32m\"/var/folders/yz/kqd5yqtx0dx0qfpmm8f_wdg40000gn/T/ipykernel_97867/358626730.py\"\u001b[0;36m, line \u001b[0;32m10\u001b[0;36m, in \u001b[0;35m<module>\u001b[0;36m\u001b[0m\n\u001b[0;31m    from TokenLab.simulationcomponents.transactionclasses import *\u001b[0m\n",
      "\u001b[0;36m  File \u001b[0;32m\"/Users/stylianoskampakis/Dropbox (Personal)/Freelance/TokenLab/src/TokenLab/simulationcomponents/transactionclasses.py\"\u001b[0;36m, line \u001b[0;32m594\u001b[0m\n\u001b[0;31m    self.transactions_distribution=transactions_distribution\u001b[0m\n\u001b[0m    ^\u001b[0m\n\u001b[0;31mIndentationError\u001b[0m\u001b[0;31m:\u001b[0m expected an indented block\n"
     ]
    }
   ],
   "source": [
    "import numpy as np\n",
    "import scipy\n",
    "import sys\n",
    "import os\n",
    "tokenlab_path=os.path.abspath(\"\").replace('notebooks','src')\n",
    "sys.path.insert(0,tokenlab_path)\n",
    "\n",
    "from TokenLab.simulationcomponents import *\n",
    "from TokenLab.simulationcomponents.usergrowthclasses import *\n",
    "from TokenLab.simulationcomponents.transactionclasses import *\n",
    "from TokenLab.simulationcomponents.tokeneconomyclasses import *\n",
    "from TokenLab.simulationcomponents.transactionclasses import *\n",
    "from TokenLab.simulationcomponents.agentpoolclasses import *\n",
    "from TokenLab.simulationcomponents.pricingclasses import *\n",
    "from TokenLab.simulationcomponents.addons import AddOn_RandomNoise, AddOn_RandomNoiseProportional\n",
    "from utils.helpers import *\n",
    "from matplotlib import pyplot as plt"
   ]
  },
  {
   "cell_type": "markdown",
   "id": "d662b03c",
   "metadata": {},
   "source": [
    "# Globals\n",
    "\n",
    "We start by defining our globals. We choose 60 iterations, with each iteration representing 1 month, and an average holding time of 1 month. The total circulating supply is 100 million"
   ]
  },
  {
   "cell_type": "code",
   "execution_count": null,
   "id": "64a62fd1",
   "metadata": {},
   "outputs": [],
   "source": [
    "ITERATIONS=60\n",
    "HOLDING_TIME=1\n",
    "SUPPLY=10**9\n",
    "INITIAL_PRICE=0.1"
   ]
  },
  {
   "cell_type": "markdown",
   "id": "d5e8b746",
   "metadata": {},
   "source": [
    "# Increasing user growth without noise\n",
    "\n",
    "Let's see what user growth looks like when we don't apply any noise add-ons."
   ]
  },
  {
   "cell_type": "code",
   "execution_count": null,
   "id": "8503cf91",
   "metadata": {},
   "outputs": [],
   "source": [
    "usm_fiat=UserGrowth_Spaced(100,54000,ITERATIONS,log_saturated_space)\n",
    "\n",
    "\n",
    "ap_fiat=AgentPool_Basic(users_controller=usm_fiat,transactions_controller=100,currency='$')\n",
    "plt.plot(usm_fiat._num_users_store)"
   ]
  },
  {
   "cell_type": "markdown",
   "id": "564b9c16",
   "metadata": {},
   "source": [
    "This is what the price looks like below. The price growth is equivalent to user growth."
   ]
  },
  {
   "cell_type": "code",
   "execution_count": null,
   "id": "1999bf2a",
   "metadata": {},
   "outputs": [],
   "source": [
    "te=TokenEconomy_Basic(holding_time=HOLDING_TIME,supply=SUPPLY,token='tokenA',initial_price=INITIAL_PRICE)\n",
    "te.add_agent_pools([ap_fiat])\n",
    "meta=TokenMetaSimulator(te)\n",
    "meta.execute(iterations=ITERATIONS,repetitions=50)\n",
    "reps=meta.get_data()\n",
    "plot,data=meta.get_timeseries('tokenA_price')\n",
    "plot"
   ]
  },
  {
   "cell_type": "code",
   "execution_count": null,
   "id": "cef90f36",
   "metadata": {},
   "outputs": [],
   "source": [
    "reps"
   ]
  },
  {
   "cell_type": "markdown",
   "id": "24f8912d",
   "metadata": {},
   "source": [
    "# Increasing user growth with noise\n",
    "\n",
    "Now let's apply some noise to the user growth. We see that the price now takes a more realistic trajectory."
   ]
  },
  {
   "cell_type": "code",
   "execution_count": null,
   "id": "ecf97368",
   "metadata": {},
   "outputs": [],
   "source": [
    "usm_fiat=UserGrowth_Spaced(100,54000,ITERATIONS,log_saturated_space,\n",
    "                           noise_addon=AddOn_RandomNoise(dist_params={'loc':5000,'scale':2000}))\n",
    "\n",
    "\n",
    "ap_fiat=AgentPool_Basic(users_controller=usm_fiat,transactions_controller=10,currency='$')\n",
    "plt.plot(usm_fiat._num_users_store)"
   ]
  },
  {
   "cell_type": "code",
   "execution_count": null,
   "id": "e140966b",
   "metadata": {},
   "outputs": [],
   "source": [
    "te=TokenEconomy_Basic(holding_time=HOLDING_TIME,supply=SUPPLY,token='tokenA',initial_price=INITIAL_PRICE)\n",
    "te.add_agent_pools([ap_fiat])\n",
    "meta=TokenMetaSimulator(te)\n",
    "meta.execute(iterations=ITERATIONS,repetitions=50)\n",
    "reps=meta.get_data()\n",
    "plot,data=meta.get_timeseries('tokenA_price')\n",
    "plot"
   ]
  },
  {
   "cell_type": "markdown",
   "id": "02563f75",
   "metadata": {},
   "source": [
    "# Increasing user growth with adaptive noise\n",
    "\n",
    "Now let's apply some proportional noise. The variance scales in accordance with user growth. In this example it is 10% of the total number of users. This is calculated upon the original user projections.\n",
    "\n",
    "We see that the price varies more wildly compared to before."
   ]
  },
  {
   "cell_type": "code",
   "execution_count": null,
   "id": "db81209e",
   "metadata": {},
   "outputs": [],
   "source": [
    "usm_fiat=UserGrowth_Spaced(100,54000,ITERATIONS,log_saturated_space,\n",
    "                           noise_addon=AddOn_RandomNoiseProportional(std_param=10))\n",
    "\n",
    "\n",
    "ap_fiat=AgentPool_Basic(users_controller=usm_fiat,transactions_controller=1000,currency='$')\n",
    "plt.plot(usm_fiat._num_users_store)\n",
    "plt.ylabel('num users')\n",
    "plt.xlabel('month')"
   ]
  },
  {
   "cell_type": "code",
   "execution_count": null,
   "id": "23a69d61",
   "metadata": {},
   "outputs": [],
   "source": [
    "te=TokenEconomy_Basic(holding_time=HOLDING_TIME,supply=SUPPLY,token='tokenA',initial_price=INITIAL_PRICE)\n",
    "te.add_agent_pools([ap_fiat])\n",
    "meta=TokenMetaSimulator(te)\n",
    "meta.execute(iterations=ITERATIONS,repetitions=50)\n",
    "reps=meta.get_data()\n",
    "plot,data=meta.get_timeseries('tokenA_price')\n",
    "plot"
   ]
  },
  {
   "cell_type": "markdown",
   "id": "1151afb5",
   "metadata": {},
   "source": [
    "# Probabilistic active users"
   ]
  },
  {
   "cell_type": "code",
   "execution_count": null,
   "id": "b855487c",
   "metadata": {},
   "outputs": [],
   "source": [
    "usm_fiat=UserGrowth_Spaced(100,54000,ITERATIONS,log_saturated_space,\n",
    "                           noise_addon=[AddOn_RandomNoiseProportional(std_param=10),\n",
    "                                        AddOn_RandomReduction(reduction_dist: scipy.stats.rv_continuous = scipy.stats.uniform(loc=0, scale=0.1))])\n",
    "\n",
    "\n",
    "ap_fiat=AgentPool_Basic(users_controller=usm_fiat,transactions_controller=1000,currency='$')\n",
    "plt.plot(usm_fiat._num_users_store)\n",
    "plt.ylabel('num users')\n",
    "plt.xlabel('month')"
   ]
  },
  {
   "cell_type": "code",
   "execution_count": null,
   "id": "8aeb92fa",
   "metadata": {},
   "outputs": [],
   "source": [
    "te=TokenEconomy_Basic(holding_time=HOLDING_TIME,supply=SUPPLY,token='tokenA',initial_price=INITIAL_PRICE)\n",
    "te.add_agent_pools([ap_fiat])\n",
    "meta=TokenMetaSimulator(te)\n",
    "meta.execute(iterations=ITERATIONS,repetitions=50)\n",
    "reps=meta.get_data()\n",
    "plot,data=meta.get_timeseries('tokenA_price')\n",
    "plot"
   ]
  },
  {
   "cell_type": "markdown",
   "id": "3eb5822a",
   "metadata": {},
   "source": [
    "# User growth stochastic and and stochastic transactions\n",
    "\n",
    "Now let's try to add everything all together! In this case we add the noise to user growth, while also used the stochastic transactions class. The stochastic transactions class does not accept any noise addons, because of the way it's designed, as it implements multiple stochastic components simultaneously."
   ]
  },
  {
   "cell_type": "code",
   "execution_count": null,
   "id": "3c08a027",
   "metadata": {},
   "outputs": [],
   "source": [
    "usm_fiat=UserGrowth_Spaced(100,54000,ITERATIONS,log_saturated_space,\n",
    "                           noise_addon=AddOn_RandomNoiseProportional(std_param=10))\n",
    "\n",
    "tsm_fiat=TransactionManagement_Stochastic(activity_probs=np.linspace(0.25,1,ITERATIONS),\n",
    "                                            value_dist_parameters={'loc':1000,'scale':200},\n",
    "                                           transactions_dist_parameters={'mu':1})\n",
    "\n",
    "ap_fiat=AgentPool_Basic(users_controller=usm_fiat,transactions_controller=tsm_fiat,currency='$')"
   ]
  },
  {
   "cell_type": "code",
   "execution_count": null,
   "id": "2f28123f",
   "metadata": {},
   "outputs": [],
   "source": [
    "te=TokenEconomy_Basic(holding_time=HOLDING_TIME,supply=SUPPLY,token='tokenA',initial_price=INITIAL_PRICE)\n",
    "te.add_agent_pools([ap_fiat])\n",
    "meta=TokenMetaSimulator(te)\n",
    "meta.execute(iterations=ITERATIONS,repetitions=50)\n",
    "reps=meta.get_data()\n",
    "plot,data=meta.get_timeseries('tokenA_price')\n",
    "plot"
   ]
  },
  {
   "cell_type": "markdown",
   "id": "f2e03d65",
   "metadata": {},
   "source": [
    "# User growth stochastic and linear transaction trend with noise component\n",
    "Now let's try to add everything all together! In this case we add the noise to user growth, while also used the stochastic transactions class. The stochastic transactions class does not accept any noise addons, because of the way it's designed, as it implements multiple stochastic components simultaneously."
   ]
  },
  {
   "cell_type": "code",
   "execution_count": null,
   "id": "91570df9",
   "metadata": {},
   "outputs": [],
   "source": [
    "usm_fiat=UserGrowth_Spaced(100,54000,ITERATIONS,log_saturated_space,\n",
    "                           noise_addon=AddOn_RandomNoiseProportional(std_param=10))\n",
    "\n",
    "tsm_fiat=TransactionManagement_Trend(average_transaction_initial=200,average_transaction_final=1500,\n",
    "                                     noise_addon=AddOn_RandomNoiseProportional(std_param=4),num_steps=ITERATIONS)\n",
    "\n",
    "ap_fiat=AgentPool_Basic(users_controller=usm_fiat,transactions_controller=tsm_fiat,currency='$')\n",
    "plt.plot(tsm_fiat._transactions_means_store)\n",
    "plt.xlabel('average size of transaction')\n",
    "plt.ylabel('month')"
   ]
  },
  {
   "cell_type": "code",
   "execution_count": null,
   "id": "96276d49",
   "metadata": {},
   "outputs": [],
   "source": [
    "te=TokenEconomy_Basic(holding_time=HOLDING_TIME,supply=SUPPLY,token='tokenA',initial_price=INITIAL_PRICE)\n",
    "te.add_agent_pools([ap_fiat])\n",
    "meta=TokenMetaSimulator(te)\n",
    "meta.execute(iterations=ITERATIONS,repetitions=50)\n",
    "reps=meta.get_data()\n",
    "plot,data=meta.get_timeseries('tokenA_price')\n",
    "plot"
   ]
  },
  {
   "cell_type": "markdown",
   "id": "a4dcafb6",
   "metadata": {},
   "source": [
    "# Price plus noise\n",
    "\n",
    "There are different pricing functions that we can use. Let's try replacing the normal pricing function, with one that adds Gaussian noise and let's see what happens."
   ]
  },
  {
   "cell_type": "code",
   "execution_count": null,
   "id": "272b6156",
   "metadata": {},
   "outputs": [],
   "source": [
    "te=TokenEconomy_Basic(holding_time=HoldingTime_Stochastic(),supply=SUPPLY,\n",
    "                      price_function=PriceFunction_EOE,token='tokenA',\n",
    "                      price_function_parameters={'noise_addon':AddOn_RandomNoise()},initial_price=INITIAL_PRICE)\n",
    "te.add_agent_pools([ap_fiat])\n",
    "meta=TokenMetaSimulator(te)\n",
    "meta.execute(iterations=ITERATIONS,repetitions=50)\n",
    "reps=meta.get_data()\n",
    "plot,data=meta.get_timeseries('tokenA_price')\n",
    "plot\n",
    "reps"
   ]
  },
  {
   "cell_type": "markdown",
   "id": "8ff92cdb",
   "metadata": {},
   "source": [
    "# Price plus noise plus adaptive variance\n",
    "\n",
    "This is a special pricing mechanism which induces randomness in the price, but the variance of the noise is proportional to the price. The idea behind this is similar to https://www.investopedia.com/terms/g/garch.asp and has also been observed in the cryptocurrency markets. For example, this holds true for Bitcoin. The higher the value of bitcoin, the higher the observed volatility."
   ]
  },
  {
   "cell_type": "code",
   "execution_count": null,
   "id": "1ce170ba",
   "metadata": {},
   "outputs": [],
   "source": [
    "te=TokenEconomy_Basic(holding_time=HoldingTime_Stochastic(),supply=SUPPLY,\n",
    "                      price_function=PriceFunction_EOE,token='tokenA',\n",
    "                      price_function_parameters={'noise_addon':AddOn_RandomNoiseProportional(std_param=7)},\n",
    "                      initial_price=INITIAL_PRICE)\n",
    "\n",
    "te.add_agent_pools([ap_fiat])\n",
    "meta=TokenMetaSimulator(te)\n",
    "meta.execute(iterations=ITERATIONS,repetitions=50)\n",
    "reps=meta.get_data()\n",
    "plot,data=meta.get_timeseries('tokenA_price')\n",
    "plot"
   ]
  }
 ],
 "metadata": {
  "kernelspec": {
   "display_name": "Python 3 (ipykernel)",
   "language": "python",
   "name": "python3"
  },
  "language_info": {
   "codemirror_mode": {
    "name": "ipython",
    "version": 3
   },
   "file_extension": ".py",
   "mimetype": "text/x-python",
   "name": "python",
   "nbconvert_exporter": "python",
   "pygments_lexer": "ipython3",
   "version": "3.9.12"
  }
 },
 "nbformat": 4,
 "nbformat_minor": 5
}
